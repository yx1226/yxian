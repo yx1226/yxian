{
 "cells": [
  {
   "cell_type": "code",
   "execution_count": 0,
   "metadata": {
    "colab": {},
    "colab_type": "code",
    "id": "YTBykssshlWe"
   },
   "outputs": [],
   "source": [
    "import nltk, re\n",
    "import pandas as pd\n",
    "import numpy as np\n",
    "\n",
    "import matplotlib.pyplot as plt\n",
    "import seaborn as sns\n",
    "%matplotlib inline\n",
    "\n",
    "\n",
    "from sklearn.preprocessing import LabelEncoder\n",
    "from collections import defaultdict\n",
    "from sklearn import model_selection, naive_bayes, svm\n",
    "from sklearn.metrics import accuracy_score\n",
    "from nltk.tokenize import WordPunctTokenizer\n",
    "from sklearn.pipeline import Pipeline\n",
    "from time import time\n",
    "from sklearn.feature_extraction.text import CountVectorizer\n",
    "from sklearn.linear_model import LogisticRegression\n",
    "from sklearn.feature_extraction.text import TfidfVectorizer"
   ]
  },
  {
   "cell_type": "markdown",
   "metadata": {
    "colab_type": "text",
    "id": "LuW2q9pw985L"
   },
   "source": [
    "**Train dataset and Test dataset**"
   ]
  },
  {
   "cell_type": "code",
   "execution_count": 0,
   "metadata": {
    "colab": {},
    "colab_type": "code",
    "id": "nKy5WamcVquY"
   },
   "outputs": [],
   "source": [
    "clean_df = pd.read_csv('clean_data.csv')\n",
    "\n",
    "Train_X, Test_X, Train_Y, Test_Y = model_selection.train_test_split(clean_df['text_final'], clean_df['Tag'], test_size=0.3)"
   ]
  },
  {
   "cell_type": "code",
   "execution_count": 0,
   "metadata": {
    "colab": {},
    "colab_type": "code",
    "id": "2Zv3jqTcS6tz"
   },
   "outputs": [],
   "source": [
    "def accuracy_summary(pipeline, Train_X, Test_X, Train_Y, Test_Y):\n",
    "    if len(Test_X[Test_Y == 0]) / (len(Test_X)*1.) > 0.5:\n",
    "        null_accuracy = len(Test_X[Test_Y == 0]) / (len(Test_X)*1.)\n",
    "    else:\n",
    "        null_accuracy = 1. - (len(Test_X[Test_Y == 0]) / (len(Test_X)*1.))\n",
    "    t0 = time()\n",
    "    sentiment_fit = pipeline.fit(Train_X, Train_Y)\n",
    "    y_pred = sentiment_fit.predict(Test_X)\n",
    "    train_test_time = time() - t0\n",
    "    accuracy = accuracy_score(Test_Y, y_pred)\n",
    "    print(\"null accuracy: {0:.2f}% \".format(null_accuracy*100))\n",
    "    print(\"accuracy score: {0:.2f}\".format(accuracy*100))\n",
    "    if accuracy > null_accuracy:\n",
    "        print(\"model is {0:.2f}% more accurate than null accuracy\".format((accuracy-null_accuracy)*100))\n",
    "    elif accuracy == null_accuracy:\n",
    "        print(\"model has the same accuracy with the null accuracy\")\n",
    "    else:\n",
    "        print(\"model is {0:.2f}% less accurate than null accuracy\".format((null_accuracy-accuracy)*100))\n",
    "    print(\"train and test time: {0:.2f}s\".format(train_test_time))\n",
    "    print(\"-\"*80)\n",
    "    return accuracy, train_test_time"
   ]
  },
  {
   "cell_type": "code",
   "execution_count": 0,
   "metadata": {
    "colab": {},
    "colab_type": "code",
    "id": "VghlqAGoTiu-"
   },
   "outputs": [],
   "source": [
    "cvec = CountVectorizer()\n",
    "lr = LogisticRegression()\n",
    "n_features = np.arange(2000,10000,1000)\n",
    "\n",
    "def nfeature_accuracy_checker(vectorizer=cvec, n_features=n_features, stop_words=None, ngram_range=(1, 1), classifier=lr):\n",
    "    result = []\n",
    "    print (classifier)\n",
    "    print(\"\\n\")\n",
    "    for n in n_features:\n",
    "        vectorizer.set_params(stop_words=stop_words, max_features=n, ngram_range=ngram_range)\n",
    "        checker_pipeline = Pipeline([\n",
    "            ('vectorizer', vectorizer),\n",
    "            ('classifier', classifier)\n",
    "        ])\n",
    "        print(\"Validation result for {} features\".format(n))\n",
    "        nfeature_accuracy,tt_time = accuracy_summary(checker_pipeline, Train_X, Test_X, Train_Y, Test_Y)\n",
    "        result.append((n,nfeature_accuracy,tt_time))\n",
    "    return result"
   ]
  },
  {
   "cell_type": "code",
   "execution_count": 5,
   "metadata": {
    "colab": {
     "base_uri": "https://localhost:8080/",
     "height": 1000
    },
    "colab_type": "code",
    "id": "kuHgCRQfT2aC",
    "outputId": "eb24b9b7-7abc-4a46-b1e5-86900f7fa521"
   },
   "outputs": [
    {
     "name": "stdout",
     "output_type": "stream",
     "text": [
      "LogisticRegression(C=1.0, class_weight=None, dual=False, fit_intercept=True,\n",
      "                   intercept_scaling=1, l1_ratio=None, max_iter=100,\n",
      "                   multi_class='warn', n_jobs=None, penalty='l2',\n",
      "                   random_state=None, solver='warn', tol=0.0001, verbose=0,\n",
      "                   warm_start=False)\n",
      "\n",
      "\n",
      "Validation result for 2000 features\n",
      "null accuracy: 100.00% \n",
      "accuracy score: 81.63\n",
      "model is 18.37% less accurate than null accuracy\n",
      "train and test time: 0.15s\n",
      "--------------------------------------------------------------------------------\n",
      "Validation result for 3000 features\n"
     ]
    },
    {
     "name": "stderr",
     "output_type": "stream",
     "text": [
      "/usr/local/lib/python3.6/dist-packages/sklearn/linear_model/logistic.py:432: FutureWarning: Default solver will be changed to 'lbfgs' in 0.22. Specify a solver to silence this warning.\n",
      "  FutureWarning)\n",
      "/usr/local/lib/python3.6/dist-packages/sklearn/linear_model/logistic.py:469: FutureWarning: Default multi_class will be changed to 'auto' in 0.22. Specify the multi_class option to silence this warning.\n",
      "  \"this warning.\", FutureWarning)\n",
      "/usr/local/lib/python3.6/dist-packages/sklearn/linear_model/logistic.py:432: FutureWarning: Default solver will be changed to 'lbfgs' in 0.22. Specify a solver to silence this warning.\n",
      "  FutureWarning)\n",
      "/usr/local/lib/python3.6/dist-packages/sklearn/linear_model/logistic.py:469: FutureWarning: Default multi_class will be changed to 'auto' in 0.22. Specify the multi_class option to silence this warning.\n",
      "  \"this warning.\", FutureWarning)\n"
     ]
    },
    {
     "name": "stdout",
     "output_type": "stream",
     "text": [
      "null accuracy: 100.00% \n",
      "accuracy score: 81.21\n",
      "model is 18.79% less accurate than null accuracy\n",
      "train and test time: 0.15s\n",
      "--------------------------------------------------------------------------------\n",
      "Validation result for 4000 features\n",
      "null accuracy: 100.00% \n",
      "accuracy score: 81.44\n",
      "model is 18.56% less accurate than null accuracy\n",
      "train and test time: 0.14s\n",
      "--------------------------------------------------------------------------------\n",
      "Validation result for 5000 features\n"
     ]
    },
    {
     "name": "stderr",
     "output_type": "stream",
     "text": [
      "/usr/local/lib/python3.6/dist-packages/sklearn/linear_model/logistic.py:432: FutureWarning: Default solver will be changed to 'lbfgs' in 0.22. Specify a solver to silence this warning.\n",
      "  FutureWarning)\n",
      "/usr/local/lib/python3.6/dist-packages/sklearn/linear_model/logistic.py:469: FutureWarning: Default multi_class will be changed to 'auto' in 0.22. Specify the multi_class option to silence this warning.\n",
      "  \"this warning.\", FutureWarning)\n",
      "/usr/local/lib/python3.6/dist-packages/sklearn/linear_model/logistic.py:432: FutureWarning: Default solver will be changed to 'lbfgs' in 0.22. Specify a solver to silence this warning.\n",
      "  FutureWarning)\n",
      "/usr/local/lib/python3.6/dist-packages/sklearn/linear_model/logistic.py:469: FutureWarning: Default multi_class will be changed to 'auto' in 0.22. Specify the multi_class option to silence this warning.\n",
      "  \"this warning.\", FutureWarning)\n"
     ]
    },
    {
     "name": "stdout",
     "output_type": "stream",
     "text": [
      "null accuracy: 100.00% \n",
      "accuracy score: 81.21\n",
      "model is 18.79% less accurate than null accuracy\n",
      "train and test time: 0.15s\n",
      "--------------------------------------------------------------------------------\n",
      "Validation result for 6000 features\n",
      "null accuracy: 100.00% \n",
      "accuracy score: 80.98\n",
      "model is 19.02% less accurate than null accuracy\n",
      "train and test time: 0.14s\n",
      "--------------------------------------------------------------------------------\n",
      "Validation result for 7000 features\n"
     ]
    },
    {
     "name": "stderr",
     "output_type": "stream",
     "text": [
      "/usr/local/lib/python3.6/dist-packages/sklearn/linear_model/logistic.py:432: FutureWarning: Default solver will be changed to 'lbfgs' in 0.22. Specify a solver to silence this warning.\n",
      "  FutureWarning)\n",
      "/usr/local/lib/python3.6/dist-packages/sklearn/linear_model/logistic.py:469: FutureWarning: Default multi_class will be changed to 'auto' in 0.22. Specify the multi_class option to silence this warning.\n",
      "  \"this warning.\", FutureWarning)\n",
      "/usr/local/lib/python3.6/dist-packages/sklearn/linear_model/logistic.py:432: FutureWarning: Default solver will be changed to 'lbfgs' in 0.22. Specify a solver to silence this warning.\n",
      "  FutureWarning)\n",
      "/usr/local/lib/python3.6/dist-packages/sklearn/linear_model/logistic.py:469: FutureWarning: Default multi_class will be changed to 'auto' in 0.22. Specify the multi_class option to silence this warning.\n",
      "  \"this warning.\", FutureWarning)\n"
     ]
    },
    {
     "name": "stdout",
     "output_type": "stream",
     "text": [
      "null accuracy: 100.00% \n",
      "accuracy score: 80.90\n",
      "model is 19.10% less accurate than null accuracy\n",
      "train and test time: 0.15s\n",
      "--------------------------------------------------------------------------------\n",
      "Validation result for 8000 features\n",
      "null accuracy: 100.00% \n",
      "accuracy score: 80.90\n",
      "model is 19.10% less accurate than null accuracy\n",
      "train and test time: 0.14s\n",
      "--------------------------------------------------------------------------------\n",
      "Validation result for 9000 features\n"
     ]
    },
    {
     "name": "stderr",
     "output_type": "stream",
     "text": [
      "/usr/local/lib/python3.6/dist-packages/sklearn/linear_model/logistic.py:432: FutureWarning: Default solver will be changed to 'lbfgs' in 0.22. Specify a solver to silence this warning.\n",
      "  FutureWarning)\n",
      "/usr/local/lib/python3.6/dist-packages/sklearn/linear_model/logistic.py:469: FutureWarning: Default multi_class will be changed to 'auto' in 0.22. Specify the multi_class option to silence this warning.\n",
      "  \"this warning.\", FutureWarning)\n",
      "/usr/local/lib/python3.6/dist-packages/sklearn/linear_model/logistic.py:432: FutureWarning: Default solver will be changed to 'lbfgs' in 0.22. Specify a solver to silence this warning.\n",
      "  FutureWarning)\n",
      "/usr/local/lib/python3.6/dist-packages/sklearn/linear_model/logistic.py:469: FutureWarning: Default multi_class will be changed to 'auto' in 0.22. Specify the multi_class option to silence this warning.\n",
      "  \"this warning.\", FutureWarning)\n"
     ]
    },
    {
     "name": "stdout",
     "output_type": "stream",
     "text": [
      "null accuracy: 100.00% \n",
      "accuracy score: 80.90\n",
      "model is 19.10% less accurate than null accuracy\n",
      "train and test time: 0.15s\n",
      "--------------------------------------------------------------------------------\n"
     ]
    }
   ],
   "source": [
    "tvec = TfidfVectorizer()\n",
    "\n",
    "feature_unigram = nfeature_accuracy_checker(vectorizer=tvec)"
   ]
  },
  {
   "cell_type": "code",
   "execution_count": 6,
   "metadata": {
    "colab": {
     "base_uri": "https://localhost:8080/",
     "height": 1000
    },
    "colab_type": "code",
    "id": "QqFinqbLZMmo",
    "outputId": "dbf6af44-e211-4e0f-dbd2-1ce9e7e92f55"
   },
   "outputs": [
    {
     "name": "stdout",
     "output_type": "stream",
     "text": [
      "LogisticRegression(C=1.0, class_weight=None, dual=False, fit_intercept=True,\n",
      "                   intercept_scaling=1, l1_ratio=None, max_iter=100,\n",
      "                   multi_class='warn', n_jobs=None, penalty='l2',\n",
      "                   random_state=None, solver='warn', tol=0.0001, verbose=0,\n",
      "                   warm_start=False)\n",
      "\n",
      "\n",
      "Validation result for 2000 features\n"
     ]
    },
    {
     "name": "stderr",
     "output_type": "stream",
     "text": [
      "/usr/local/lib/python3.6/dist-packages/sklearn/linear_model/logistic.py:432: FutureWarning: Default solver will be changed to 'lbfgs' in 0.22. Specify a solver to silence this warning.\n",
      "  FutureWarning)\n",
      "/usr/local/lib/python3.6/dist-packages/sklearn/linear_model/logistic.py:469: FutureWarning: Default multi_class will be changed to 'auto' in 0.22. Specify the multi_class option to silence this warning.\n",
      "  \"this warning.\", FutureWarning)\n"
     ]
    },
    {
     "name": "stdout",
     "output_type": "stream",
     "text": [
      "null accuracy: 100.00% \n",
      "accuracy score: 80.60\n",
      "model is 19.40% less accurate than null accuracy\n",
      "train and test time: 0.29s\n",
      "--------------------------------------------------------------------------------\n",
      "Validation result for 3000 features\n"
     ]
    },
    {
     "name": "stderr",
     "output_type": "stream",
     "text": [
      "/usr/local/lib/python3.6/dist-packages/sklearn/linear_model/logistic.py:432: FutureWarning: Default solver will be changed to 'lbfgs' in 0.22. Specify a solver to silence this warning.\n",
      "  FutureWarning)\n",
      "/usr/local/lib/python3.6/dist-packages/sklearn/linear_model/logistic.py:469: FutureWarning: Default multi_class will be changed to 'auto' in 0.22. Specify the multi_class option to silence this warning.\n",
      "  \"this warning.\", FutureWarning)\n"
     ]
    },
    {
     "name": "stdout",
     "output_type": "stream",
     "text": [
      "null accuracy: 100.00% \n",
      "accuracy score: 80.21\n",
      "model is 19.79% less accurate than null accuracy\n",
      "train and test time: 0.29s\n",
      "--------------------------------------------------------------------------------\n",
      "Validation result for 4000 features\n"
     ]
    },
    {
     "name": "stderr",
     "output_type": "stream",
     "text": [
      "/usr/local/lib/python3.6/dist-packages/sklearn/linear_model/logistic.py:432: FutureWarning: Default solver will be changed to 'lbfgs' in 0.22. Specify a solver to silence this warning.\n",
      "  FutureWarning)\n",
      "/usr/local/lib/python3.6/dist-packages/sklearn/linear_model/logistic.py:469: FutureWarning: Default multi_class will be changed to 'auto' in 0.22. Specify the multi_class option to silence this warning.\n",
      "  \"this warning.\", FutureWarning)\n"
     ]
    },
    {
     "name": "stdout",
     "output_type": "stream",
     "text": [
      "null accuracy: 100.00% \n",
      "accuracy score: 80.25\n",
      "model is 19.75% less accurate than null accuracy\n",
      "train and test time: 0.30s\n",
      "--------------------------------------------------------------------------------\n",
      "Validation result for 5000 features\n"
     ]
    },
    {
     "name": "stderr",
     "output_type": "stream",
     "text": [
      "/usr/local/lib/python3.6/dist-packages/sklearn/linear_model/logistic.py:432: FutureWarning: Default solver will be changed to 'lbfgs' in 0.22. Specify a solver to silence this warning.\n",
      "  FutureWarning)\n",
      "/usr/local/lib/python3.6/dist-packages/sklearn/linear_model/logistic.py:469: FutureWarning: Default multi_class will be changed to 'auto' in 0.22. Specify the multi_class option to silence this warning.\n",
      "  \"this warning.\", FutureWarning)\n"
     ]
    },
    {
     "name": "stdout",
     "output_type": "stream",
     "text": [
      "null accuracy: 100.00% \n",
      "accuracy score: 79.95\n",
      "model is 20.05% less accurate than null accuracy\n",
      "train and test time: 0.30s\n",
      "--------------------------------------------------------------------------------\n",
      "Validation result for 6000 features\n"
     ]
    },
    {
     "name": "stderr",
     "output_type": "stream",
     "text": [
      "/usr/local/lib/python3.6/dist-packages/sklearn/linear_model/logistic.py:432: FutureWarning: Default solver will be changed to 'lbfgs' in 0.22. Specify a solver to silence this warning.\n",
      "  FutureWarning)\n",
      "/usr/local/lib/python3.6/dist-packages/sklearn/linear_model/logistic.py:469: FutureWarning: Default multi_class will be changed to 'auto' in 0.22. Specify the multi_class option to silence this warning.\n",
      "  \"this warning.\", FutureWarning)\n"
     ]
    },
    {
     "name": "stdout",
     "output_type": "stream",
     "text": [
      "null accuracy: 100.00% \n",
      "accuracy score: 79.79\n",
      "model is 20.21% less accurate than null accuracy\n",
      "train and test time: 0.29s\n",
      "--------------------------------------------------------------------------------\n",
      "Validation result for 7000 features\n"
     ]
    },
    {
     "name": "stderr",
     "output_type": "stream",
     "text": [
      "/usr/local/lib/python3.6/dist-packages/sklearn/linear_model/logistic.py:432: FutureWarning: Default solver will be changed to 'lbfgs' in 0.22. Specify a solver to silence this warning.\n",
      "  FutureWarning)\n",
      "/usr/local/lib/python3.6/dist-packages/sklearn/linear_model/logistic.py:469: FutureWarning: Default multi_class will be changed to 'auto' in 0.22. Specify the multi_class option to silence this warning.\n",
      "  \"this warning.\", FutureWarning)\n"
     ]
    },
    {
     "name": "stdout",
     "output_type": "stream",
     "text": [
      "null accuracy: 100.00% \n",
      "accuracy score: 79.75\n",
      "model is 20.25% less accurate than null accuracy\n",
      "train and test time: 0.29s\n",
      "--------------------------------------------------------------------------------\n",
      "Validation result for 8000 features\n"
     ]
    },
    {
     "name": "stderr",
     "output_type": "stream",
     "text": [
      "/usr/local/lib/python3.6/dist-packages/sklearn/linear_model/logistic.py:432: FutureWarning: Default solver will be changed to 'lbfgs' in 0.22. Specify a solver to silence this warning.\n",
      "  FutureWarning)\n",
      "/usr/local/lib/python3.6/dist-packages/sklearn/linear_model/logistic.py:469: FutureWarning: Default multi_class will be changed to 'auto' in 0.22. Specify the multi_class option to silence this warning.\n",
      "  \"this warning.\", FutureWarning)\n"
     ]
    },
    {
     "name": "stdout",
     "output_type": "stream",
     "text": [
      "null accuracy: 100.00% \n",
      "accuracy score: 79.52\n",
      "model is 20.48% less accurate than null accuracy\n",
      "train and test time: 0.32s\n",
      "--------------------------------------------------------------------------------\n",
      "Validation result for 9000 features\n",
      "null accuracy: 100.00% \n",
      "accuracy score: 79.41\n",
      "model is 20.59% less accurate than null accuracy\n",
      "train and test time: 0.30s\n",
      "--------------------------------------------------------------------------------\n"
     ]
    },
    {
     "name": "stderr",
     "output_type": "stream",
     "text": [
      "/usr/local/lib/python3.6/dist-packages/sklearn/linear_model/logistic.py:432: FutureWarning: Default solver will be changed to 'lbfgs' in 0.22. Specify a solver to silence this warning.\n",
      "  FutureWarning)\n",
      "/usr/local/lib/python3.6/dist-packages/sklearn/linear_model/logistic.py:469: FutureWarning: Default multi_class will be changed to 'auto' in 0.22. Specify the multi_class option to silence this warning.\n",
      "  \"this warning.\", FutureWarning)\n"
     ]
    }
   ],
   "source": [
    "feature_bigram = nfeature_accuracy_checker(vectorizer=tvec,ngram_range=(1, 2))"
   ]
  },
  {
   "cell_type": "code",
   "execution_count": 7,
   "metadata": {
    "colab": {
     "base_uri": "https://localhost:8080/",
     "height": 422
    },
    "colab_type": "code",
    "id": "3K5f4-44R_KY",
    "outputId": "4f35639f-5a72-47a9-a533-50a920ae03fe"
   },
   "outputs": [
    {
     "data": {
      "text/plain": [
       "<matplotlib.legend.Legend at 0x7fd4ae4e05c0>"
      ]
     },
     "execution_count": 7,
     "metadata": {
      "tags": []
     },
     "output_type": "execute_result"
    },
    {
     "data": {
      "image/png": "[encoded data removed]",
      "text/plain": [
       "<Figure size 576x432 with 1 Axes>"
      ]
     },
     "metadata": {
      "tags": []
     },
     "output_type": "display_data"
    }
   ],
   "source": [
    "nfeatures_plot_ugt = pd.DataFrame(feature_unigram,columns=['nfeatures','validation_accuracy','train_test_time'])\n",
    "nfeatures_plot_bgt = pd.DataFrame(feature_bigram,columns=['nfeatures','validation_accuracy','train_test_time'])\n",
    "\n",
    "plt.figure(figsize=(8,6))\n",
    "plt.plot(nfeatures_plot_bgt.nfeatures, nfeatures_plot_bgt.validation_accuracy,label='bigram tfidf vectorizer',color='orangered')\n",
    "plt.plot(nfeatures_plot_bgt.nfeatures, nfeatures_plot_bgt.validation_accuracy,label='bigram count vectorizer',linestyle=':',color='orangered')\n",
    "plt.plot(nfeatures_plot_ugt.nfeatures, nfeatures_plot_ugt.validation_accuracy, label='unigram tfidf vectorizer',color='royalblue')\n",
    "plt.plot(nfeatures_plot_ugt.nfeatures, nfeatures_plot_ugt.validation_accuracy, label='unigram count vectorizer',linestyle=':',color='royalblue')\n",
    "\n",
    "plt.title(\"N-gram(1-2) test result : Accuracy\")\n",
    "plt.xlabel(\"Number of features\")\n",
    "plt.ylabel(\"Validation set accuracy\")\n",
    "\n",
    "plt.legend()"
   ]
  },
  {
   "cell_type": "code",
   "execution_count": 0,
   "metadata": {
    "colab": {},
    "colab_type": "code",
    "id": "6i5IzwaN_DTE"
   },
   "outputs": [],
   "source": [
    "Encoder = LabelEncoder()\n",
    "Train_Y = Encoder.fit_transform(Train_Y)\n",
    "Test_Y = Encoder.fit_transform(Test_Y)\n",
    "\n",
    "Tfidf_vect = TfidfVectorizer(max_features=4500)\n",
    "Tfidf_vect.fit(clean_df['text_final'])\n",
    "Train_X_Tfidf = Tfidf_vect.transform(Train_X)\n",
    "Test_X_Tfidf = Tfidf_vect.transform(Test_X)"
   ]
  },
  {
   "cell_type": "code",
   "execution_count": 9,
   "metadata": {
    "colab": {
     "base_uri": "https://localhost:8080/",
     "height": 1000
    },
    "colab_type": "code",
    "id": "w3AWB6wq_YUu",
    "outputId": "8f4e57be-f38a-47ce-c71c-374e2aae5e20"
   },
   "outputs": [
    {
     "name": "stdout",
     "output_type": "stream",
     "text": [
      "----------------------- Train Y Tfidf ------------------------------\n",
      "\n",
      "{'obsess': 2348, 'frozen': 1439, 'soundtrack': 3685, 'since': 3588, 'see': 3411, 'film': 1354, 'literally': 2024, 'listen': 2019, 'repeat': 3073, 'every': 1244, 'day': 972, 'love': 2058, 'story': 3754, 'felt': 1336, 'charm': 721, 'present': 2678, 'first': 1369, 'one': 2384, 'tune': 4037, 'oh': 2367, 'elsa': 1167, 'cutie': 940, 'babey': 344, 'death': 978, 'disney': 1058, 'ice': 1724, 'cold': 796, 'hard': 1616, 'fact': 1290, 'freeze': 1421, 'rat': 2895, 'xxx': 4464, 'nc': 2288, 'parody': 2446, 'let': 1992, 'go': 1518, 'sequence': 3453, 'perform': 2473, 'idina': 1734, 'menzel': 2169, 'via': 4281, 'leave': 1976, 'like': 2007, 'hey': 1660, 'ho': 1677, 'wan': 4333, 'na': 2272, 'anna': 170, 'content': 857, 'twitter': 4047, 'lol': 2037, 'punk': 2794, 'illustration': 1745, 'best': 518, 'part': 2447, 'thing': 3904, 'really': 2929, 'script': 3386, 'im': 1747, 'talk': 3837, 'amazing': 145, 'btw': 627, 'say': 3331, 'south': 3686, 'indian': 1774, 'woman': 4429, 'get': 1491, 'rescue': 3095, 'poor': 2593, 'dog': 1082, 'front': 1434, 'leg': 1980, 'cut': 937, 'happy': 1614, 'transformation': 3982, 'heard': 1641, 'voice': 4311, 'follow': 1389, 'find': 1360, 'fuck': 1452, 'gay': 1475, 'want': 4334, 'real': 2922, 'asexual': 232, 'character': 717, 'ace': 21, 'aro': 220, 'great': 1566, 'busy': 647, 'sweet': 3820, 'life': 2000, 'cinema': 755, 'watch': 4344, 'come': 816, 'bring': 612, 'popcorn': 2596, 'sven': 3817, 'ugly': 4054, 'cry': 929, 'make': 2096, 'post': 2620, 'gf': 1492, 'twice': 4044, 'already': 135, 'sorry': 3675, 'feel': 1332, 'well': 4376, 'soon': 3669, 'speak': 3691, 'saw': 3330, 'yesterday': 4479, 'gre': 1565, 'hello': 1656, 'world': 4440, 'ne': 2290, 'last': 1951, 'christmas': 748, 'star': 3728, 'war': 4335, 'rise': 3182, 'skywalker': 3612, 'cat': 690, 'jumanji': 1873, 'kim': 1902, 'young': 4488, 'hasbro': 1622, 'bop': 575, 'olaf': 2372, 'edition': 1150, 'perfect': 2470, 'kid': 1896, 'adult': 50, 'alike': 125, 'enter': 1210, 'win': 4408, 'survive': 3816, 'movie': 2235, 'minute': 2202, 'pass': 2454, 'sleep': 3617, 'tuesday': 4034, 'version': 4273, 'unknown': 4142, 'urie': 4212, 'do': 1080, 'kristoff': 1932, 'depress': 1004, 'romantic': 3215, 'imagine': 1750, 'musical': 2262, 'number': 2341, 'rid': 3165, 'something': 3659, 'uhhh': 4056, 'hit': 1674, 'tonight': 3958, 'whole': 4398, 'watching': 4348, 'mum': 2256, 'friend': 1427, 'along': 133, 'autism': 281, 'budget': 633, 'someone': 3658, 'write': 4453, 'original': 2400, 'ancient': 154, 'forest': 1398, 'el': 1160, 'director': 1040, 'chris': 746, 'buck': 630, 'call': 657, 'honeymaren': 1693, 'honey': 1692, 'everyone': 1246, 'think': 3905, 'girlfriends': 1501, 'shes': 3514, 'republican': 3091, 'queen': 2830, 'reward': 3148, 'competition': 828, 'spoiler': 3711, 'without': 4425, 'context': 860, 'able': 8, 'okay': 2370, 'lie': 1999, 'adorable': 48, 'brave': 595, 'reallifemumsite': 2928, 'amaze': 144, 'chain': 710, 'beauty': 473, 'screenshot': 3380, 'contestalert': 859, 'disneyprincess': 1070, 'letitgo': 1993, 'stop': 3750, 'move': 2232, 'time': 3938, 'release': 3033, 'italy': 1830, 'today': 3950, 'th': 3873, 'instead': 1798, 'ii': 1742, 'funny': 1463, 'excite': 1260, 'sad': 3271, 'silly': 3583, 'song': 3666, 'hilarious': 1669, 'recap': 2939, 'movi': 2234, 'dear': 977, 'team': 3852, 'dexta': 1023, 'daps': 959, 'official': 2363, 'audio': 269, 'skin': 3609, 'die': 1027, 'fantastic': 1310, 'join': 1856, 'guess': 1580, 'gon': 1529, 'lisa': 2017, 'merchandise': 2172, 'lose': 2050, 'wood': 4435, 'stick': 3744, 'head': 1635, 'decide': 984, 'prefer': 2656, 'showyourself': 3569, 'emotional': 1186, 'intotheunknown': 1809, 'powerful': 2637, 'seraphinanotay': 3455, 'st': 3720, 'start': 3730, 'family': 1301, 'naman': 2279, 'hahaha': 1593, 'shaggy': 3482, 'girl': 1498, 'actually': 32, 'melt': 2158, 'hatred': 1626, 'review': 3142, 'httyd': 1707, 'fail': 1292, 'lego': 1984, 'another': 180, 'animate': 163, 'sequel': 3451, 'miss': 2203, 'thank': 3875, 'sort': 3677, 'ticket': 3931, 'redditch': 2972, 'flight': 1380, 'mode': 2211, 'help': 1657, 'please': 2539, 'even': 1237, 'catchy': 692, 'listening': 2020, 'wait': 4321, 'guy': 1587, 'lot': 2054, 'emotion': 1185, 'humor': 1715, 'grow': 1576, 'ter': 3866, 'still': 3746, 'believe': 507, 'randall': 2881, 'keep': 1889, 'hear': 1640, 'dang': 956, 'jump': 1874, 'ocean': 2355, 'friday': 1426, 'italian': 1829, 'theater': 3885, 'chance': 712, 'art': 226, 'inspire': 1792, 'hope': 1696, 'must': 2263, 'next': 2307, 'right': 3171, 'omg': 2380, 'soo': 3668, 'dolbycinema': 1085, 'ah': 92, 'good': 1531, 'enjoy': 1206, 'year': 4473, 'old': 2375, 'sit': 3599, 'half': 1601, 'four': 1408, 'also': 137, 'fav': 1319, 'line': 2014, 'nooo': 2325, 'forget': 1400, 'end': 1195, 'credit': 917, 'scene': 3348, 'sooo': 3671, 'curious': 933, 'totally': 3964, 'psa': 2771, 'afternoon': 82, 'worth': 4445, 'around': 221, 'inside': 1790, 'box': 585, 'office': 2362, 'record': 2962, 'broke': 617, 'debut': 980, 'weekend': 4369, 'delight': 997, 'take': 3830, 'night': 2313, 'thoroughly': 3912, 'agree': 91, 'seventeen': 3470, 'samantha': 3290, 'know': 1920, 'tribute': 4002, 'slay': 3616, 'fragile': 1413, 'show': 3560, 'would': 4448, 'girlfriend': 1500, 'relationship': 3028, 'status': 3735, 'fan': 1305, 'aff': 69, 'thanksgiving': 3878, 'thankful': 3876, 'week': 4367, 'babysit': 353, 'change': 713, 'dress': 1111, 'market': 2117, 'new': 2303, 'alone': 132, 'level': 1994, 'pain': 2427, 'worldwide': 4442, 'phenomenon': 2491, 'back': 361, 'play': 2526, 'roxy': 3238, 'stupid': 3776, 'lucky': 2070, 'copy': 875, 'bruce': 622, 'fifth': 1345, 'element': 1163, 'reveal': 3137, 'beautiful': 470, 'music': 2261, 'phenomenal': 2490, 'pic': 2500, 'adam': 35, 'warn': 4340, 'tale': 3834, 'handle': 1607, 'issue': 1826, 'partner': 2450, 'reindeer': 3017, 'snowflake': 3644, 'whenever': 4386, 'special': 3693, 'collection': 801, 'style': 3777, 'visit': 4304, 'local': 2034, 'factory': 1291, 'store': 3752, 'buy': 651, 'stuff': 3772, 'key': 1893, 'parent': 2444, 'home': 1685, 'yet': 4480, 'sings': 3593, 'bad': 367, 'especially': 1228, 'sing': 3589, 'en': 1191, 'route': 3234, 'london': 2038, 'attend': 259, 'england': 1202, 'va': 4231, 'walk': 4327, 'million': 2192, 'hour': 1703, 'stand': 3724, 'danger': 957, 'fall': 1297, 'bre': 600, 'australia': 276, 'pretty': 2687, 'sure': 3809, 'feeling': 1334, 'big': 527, 'blue': 555, 'culture': 931, 'bluestory': 556, 'honestly': 1691, 'redeem': 2973, 'god': 1522, 'damn': 954, 'blow': 552, 'away': 318, 'much': 2249, 'speechless': 3699, 'unknoooown': 4130, 'unknoooooooown': 4113, 'unknnooooooaooown': 4097, 'sometimes': 3662, 'battle': 436, 'many': 2113, 'funko': 1460, 'shit': 3529, 'exactly': 1252, 'everything': 1247, 'look': 2041, 'moment': 2215, 'explore': 1276, 'currently': 935, 'two': 4048, 'little': 2025, 'problem': 2717, 'heart': 1644, 'absolute': 9, 'hair': 1598, 'goal': 1519, 'group': 1575, 'series': 3458, 'set': 3465, 'shopping': 3544, 'imax': 1751, 'mind': 2194, 'technology': 3856, 'run': 3250, 'tomorrow': 3956, 'could': 894, 'never': 2302, 'dr': 1102, 'finish': 1363, 'sem': 3428, 'river': 3187, 'finally': 1359, 'cross': 925, 'solid': 3652, 'ground': 1574, 'way': 4353, 'mak': 2095, 'obsessed': 2349, 'super': 3801, 'power': 2636, 'use': 4216, 'emo': 1182, 'mother': 2229, 'awkward': 327, 'seat': 3400, 'excited': 1261, 'open': 2394, 'ready': 2921, 'fabric': 1286, 'choose': 743, 'sew': 3473, 'marvelous': 2124, 'visuals': 4308, 'bestttt': 520, 'frozenii': 1446, 'possible': 2618, 'visual': 4306, 'cried': 919, 'unprofessional': 4182, 'student': 3769, 'nothing': 2336, 'ahead': 94, 'wo': 4427, 'waitin': 4323, 'ad': 33, 'enough': 1209, 'wind': 4409, 'al': 118, 'second': 3404, 'round': 3230, 'top': 3960, 'darling': 964, 'homeward': 1689, 'bound': 582, 'founddddd': 1407, 'forward': 1406, 'cover': 902, 'preorder': 2666, 'automatically': 283, 'upgraded': 4201, 'waste': 4343, 'preordering': 2667, 'need': 2294, 'option': 2398, 'likely': 2009, 'grateful': 1564, 'yes': 4478, 'drinking': 1114, 'beer': 491, 'high': 1665, 'unknoooahhh': 4099, 'glad': 1508, 'department': 1003, 'longer': 2040, 'free': 1420, 'zone': 4497, 'pl': 2512, 'wow': 4449, 'brilliant': 611, 'prize': 2713, 'live': 2027, 'jonathan': 1863, 'groff': 1570, 'add': 37, 'fun': 1459, 'animator': 167, 'seem': 3416, 'saturdaaaaaay': 3322, 'throughout': 3924, 'entire': 1213, 'incredibly': 1771, 'braid': 591, 'happen': 1611, 'istandwithmelissa': 1827, 'solo': 3653, 'metaphor': 2179, 'depression': 1005, 'hollywood': 1683, 'india': 1773, 'bo': 559, 'nov': 2338, 'nd': 2289, 'fordvferrari': 1395, 'exclusive': 1264, 'cod': 792, 'kit': 1909, 'premiere': 2663, 'artph': 229, 'confirm': 842, 'leather': 1975, 'daddy': 945, 'violence': 4301, 'vue': 4314, 'rubbish': 3242, 'ret': 3124, 'baby': 347, 'icymi': 1729, 'roundup': 3231, 'detail': 1017, 'success': 3783, 'jokermovie': 1860, 'light': 2003, 'note': 2335, 'build': 635, 'snowman': 3646, 'describe': 1007, 'cute': 938, 'laugh': 1957, 'sob': 3649, 'hahah': 1592, 'metime': 2180, 'moana': 2209, 'gorgeous': 1546, 'self': 3425, 'acceptance': 15, 'anyone': 190, 'eve': 1236, 'date': 967, 'powerpuffgirls': 2639, 'safe': 3276, 'sound': 3682, 'lss': 2068, 'aside': 234, 'ejen': 1158, 'ali': 124, 'tough': 3966, 'design': 1010, 'costume': 890, 'animated': 164, 'verse': 4272, 'northwind': 2330, 'meet': 2153, 'sea': 3392, 'full': 1455, 'memory': 2163, 'fo': 1387, 'daughter': 968, 'work': 4438, 'itunes': 1834, 'gift': 1495, 'card': 677, 'disneyfrozen': 1063, 'deluxe': 1000, 'album': 121, 'fl': 1374, 'cast': 687, 'sami': 3294, 'people': 2468, 'native': 2285, 'american': 150, 'actor': 30, 'indigenous': 1775, 'priyanka': 2712, 'suit': 3791, 'tweet': 4043, 'contest': 858, 'kidzcoolit': 1899, 'interview': 1808, 'newsletter': 2306, 'anymore': 189, 'wombat': 4430, 'poop': 2592, 'baymax': 439, 'appearance': 205, 'mean': 2148, 'hero': 1658, 'deserve': 1008, 'child': 734, 'youtube': 4489, 'playlist': 2533, 'friendly': 1428, 'con': 837, 'clear': 774, 'deep': 990, 'book': 571, 'popular': 2597, 'ask': 235, 'create': 911, 'reaction': 2917, 'reply': 3080, 'pay': 2459, 'disappoint': 1044, 'point': 2571, 'evan': 1235, 'rachel': 2860, 'appreciate': 208, 'upload': 4204, 'ost': 2404, 'else': 1172, 'stuck': 3768, 'lyric': 2076, 'ok': 2369, 'tengok': 3865, 'kali': 1883, 'money': 2220, 'ejenalithemovie': 1159, 'hella': 1655, 'important': 1759, 'acknowledge': 23, 'screenshots': 3381, 'later': 1955, 'unbreakable': 4066, 'serious': 3459, 'message': 2176, 'crore': 924, 'saturday': 3323, 'sunday': 3798, 'monday': 2219, 'prolly': 2742, 'bcs': 449, 'expectation': 1273, 'sister': 3596, 'kingdom': 1906, 'morning': 2227, 'butterfly': 649, 'click': 777, 'seein': 3413, 'reason': 2932, 'though': 3914, 'hate': 1625, 'admit': 45, 'simple': 3585, 'goin': 1526, 'horse': 1700, 'white': 4394, 'dramatic': 1106, 'sunset': 3799, 'behind': 500, 'nobody': 2315, 'express': 1278, 'princess': 2700, 'iris': 1817, 'fortnite': 1404, 'past': 2456, 'hand': 1605, 'shake': 3483, 'may': 2142, 'match': 2133, 'magic': 2087, 'warm': 4338, 'rlly': 3189, 'didnt': 1026, 'stan': 3723, 'constantly': 853, 'social': 3650, 'medium': 2152, 'school': 3358, 'duet': 1122, 'sleeve': 3618, 'walker': 4328, 'mamageek': 2105, 'toy': 3972, 'mvp': 2266, 'tangle': 3841, 'avatar': 292, 'complete': 830, 'playroom': 2534, 'sneak': 3638, 'screening': 3378, 'pm': 2557, 'give': 1504, 'determine': 1019, 'action': 27, 'pack': 2424, 'starwars': 3731, 'yall': 4468, 'learn': 1973, 'si': 3573, 'grand': 1556, 'tell': 3860, 'truly': 4023, 'tak': 3829, 'sumpah': 3796, 'gila': 1497, 'char': 716, 'wtf': 4458, 'rekt': 3021, 'expect': 1272, 'row': 3236, 'trio': 4011, 'five': 1371, 'scar': 3340, 'try': 4027, 'tod': 3949, 'mood': 2224, 'eye': 1283, 'opinion': 2396, 'cartoon': 683, 'compare': 827, 'classic': 771, 'wont': 4433, 'deny': 1002, 'representation': 3089, 'panic': 2435, 'disco': 1047, 'ver': 4266, 'boot': 574, 'stock': 3747, 'understand': 4069, 'experience': 1274, 'meanwhile': 2150, 'expose': 1277, 'december': 983, 'participate': 2448, 'cineworld': 761, 'kacey': 1882, 'musgraves': 2259, 'argument': 218, 'niece': 2312, 'relation': 3027, 'mix': 2205, 'dark': 961, 'brown': 620, 'absolutely': 10, 'tag': 3828, 'drink': 1113, 'dinner': 1034, 'mom': 2214, 'village': 4296, 'price': 2693, 'limited': 2013, 'cup': 932, 'container': 855, 'ca': 653, 'showcase': 3562, 'existential': 1269, 'desire': 1011, 'north': 2328, 'break': 601, 'news': 2305, 'sugar': 3788, 'hidden': 1663, 'person': 2480, 'face': 1288, 'proportion': 2760, 'worry': 4444, 'pi': 2498, 'pity': 2509, 'quite': 2854, 'foot': 1392, 'combination': 813, 'notice': 2337, 'la': 1937, 'vega': 4257, 'ci': 752, 'potcast': 2626, 'surprise': 3812, 'short': 3547, 'opportunity': 2397, 'body': 564, 'pump': 2788, 'snow': 3642, 'sketch': 3606, 'rd': 2911, 'early': 1134, 'poster': 2621, 'catch': 691, 'venture': 4265, 'wishing': 4421, 'wonderful': 4432, 'cousin': 900, 'dvd': 1130, 'magical': 2088, 'accessory': 16, 'diy': 1078, 'cant': 668, 'korean': 1926, 'relate': 3024, 'club': 787, 'screeshot': 3384, 'purposefully': 2808, 'ago': 90, 'intense': 1802, 'thought': 3915, 'cinepolisfrozenootd': 760, 'vibe': 4282, 'everywhere': 1248, 'anniversary': 175, 'offer': 2360, 'honest': 1690, 'kind': 1903, 'upset': 4207, 'welcome': 4375, 'visitor': 4305, 'castle': 688, 'mall': 2103, 'shanghai': 3492, 'promote': 2748, 'mo': 2208, 'darker': 962, 'tone': 3957, 'sparkly': 3690, 'unsettle': 4184, 'arrive': 223, 'abeautifuldaymovie': 7, 'jojorabbit': 1857, 'lovely': 2062, 'crown': 927, 'freaking': 1419, 'picture': 2502, 'palace': 2432, 'rest': 3116, 'pal': 2431, 'bruni': 624, 'taeil': 3826, 'send': 3434, 'salamander': 3285, 'enchanted': 1193, 'neighborhood': 2296, 'podcast': 2564, 'insane': 1787, 'water': 4349, 'stress': 3763, 'kill': 1900, 'fire': 1366, 'outfit': 2411, 'couple': 898, 'read': 2919, 'filam': 1352, 'robertlopez': 3201, 'kristenandersonlopez': 1929, 'collaboration': 798, 'score': 3369, 'tix': 3945, 'maybe': 2143, 'unknownnnnnn': 4145, 'concept': 838, 'frozenau': 1441, 'nood': 2324, 'purely': 2802, 'swen': 3821, 'lil': 2010, 'gecko': 1478, 'idk': 1737, 'name': 2280, 'freak': 1417, 'although': 139, 'extremely': 1282, 'biased': 526, 'coz': 904, 'huge': 1709, 'definitely': 994, 'gale': 1467, 'always': 140, 'together': 3955, 'fanart': 1306, 'game': 1469, 'throne': 3923, 'daenerys': 948, 'become': 482, 'favorite': 1322, 'stun': 3774, 'mesmerize': 2174, 'place': 2513, 'azerbaijan': 339, 'grown': 1577, 'man': 2106, 'spring': 3717, 'fever': 1341, 'summer': 3794, 'adventure': 54, 'winter': 4413, 'autumn': 285, 'awesome': 322, 'elsas': 1171, 'father': 1318, 'boy': 588, 'reading': 2920, 'liuyifei': 2026, 'bazaar': 440, 'jewerly': 1851, 'photo': 2495, 'wear': 4358, 'cindychao': 753, 'mulan': 2252, 'boxoffice': 586, 'prediction': 2655, 'knivesout': 1916, 'kh': 1894, 'shape': 3493, 'crack': 906, 'appreciation': 209, 'cutest': 939, 'plush': 2555, 'ever': 1242, 'hi': 1662, 'peep': 2466, 'enjoyed': 1208, 'iconic': 1727, 'hold': 1679, 'tight': 3934, 'officially': 2364, 'download': 1099, 'attention': 262, 'glow': 1517, 'doll': 1086, 'check': 726, 'ending': 1198, 'ph': 2488, 'announce': 176, 'third': 3907, 'different': 1029, 'mate': 2134, 'dx': 1131, 'beyond': 523, 'thrill': 3920, 'report': 3081, 'fully': 1458, 'bro': 615, 'month': 2223, 'doin': 1083, 'airport': 108, 'bru': 621, 'propose': 2762, 'aku': 117, 'touch': 3965, 'kelloggsfrozen': 1891, 'retweeted': 3131, 'rewatching': 3151, 'properly': 2758, 'pregame': 2659, 'personal': 2481, 'attack': 255, 'cr': 905, 'mark': 2116, 'pick': 2501, 'fri': 1424, 'idea': 1731, 'agenda': 88, 'fortress': 1405, 'secret': 3405, 'recreation': 2966, 'jack': 1836, 'believing': 508, 'sun': 3797, 'three': 3919, 'term': 3867, 'animation': 166, 'lagu': 1942, 'eventho': 1240, 'wips': 4416, 'ngl': 2309, 'random': 2882, 'drop': 1118, 'ponder': 2587, 'meaning': 2149, 'basically': 425, 'possibly': 2619, 'omggg': 2381, 'wi': 4399, 'ashamed': 233, 'sm': 3626, 'seaside': 3398, 'city': 763, 'favourite': 1324, 'thursday': 3929, 'disagree': 1043, 'rly': 3190, 'recur': 2967, 'embark': 1175, 'far': 1312, 'arendelle': 215, 'easily': 1140, 'ta': 3824, 'makeup': 2097, 'bed': 486, 'activity': 29, 'share': 3494, 'exciting': 1263, 'sjw': 3604, 'men': 2164, 'tu': 4032, 'sedih': 3410, 'respect': 3109, 'gold': 1527, 'forever': 1399, 'final': 1358, 'reacts': 2918, 'recent': 2945, 'regard': 2998, 'prove': 2767, 'wrong': 4456, 'bank': 407, 'reinv': 3018, 'giveaway': 1505, 'project': 2739, 'smell': 3631, 'trilogy': 4008, 'late': 1953, 'todd': 3951, 'troll': 4017, 'target': 3845, 'beck': 480, 'handballworldchampionship': 1606, 'tired': 3942, 'plot': 2549, 'bless': 545, 'soft': 3651, 'po': 2558, 'dive': 1076, 'theme': 3895, 'friendship': 1430, 'portman': 2609, 'annihilation': 174, 'lite': 2022, 'mbocinemas': 2145, 'prom': 2743, 'word': 4437, 'represent': 3087, 'tie': 3932, 'cause': 693, 'legit': 1982, 'tear': 3853, 'single': 3592, 'proud': 2766, 'doodle': 1095, 'hug': 1708, 'paint': 2428, 'sai': 3277, 'interested': 1805, 'ballad': 394, 'shower': 3564, 'jam': 1840, 'wreck': 4452, 'feed': 1330, 'reconcile': 2960, 'mental': 2165, 'health': 1638, 'therapy': 3900, 'revisiting': 3145, 'em': 1173, 'color': 807, 'season': 3399, 'thanksgivingeve': 3880, 'healthy': 1639, 'chill': 736, 'brb': 599, 'future': 1464, 'thanks': 3877, 'bye': 652, 'walmartsupercenter': 4331, 'promotional': 2751, 'event': 1239, 'miami': 2183, 'include': 1768, 'cotton': 891, 'coat': 790, 'fashion': 1315, 'realize': 2927, 'siren': 3594, 'dream': 1109, 'afraid': 77, 'powerscales': 2641, 'sub': 3779, 'zero': 4495, 'lesbian': 1988, 'english': 1203, 'hindi': 1671, 'tamil': 3840, 'telugu': 3862, 'anything': 191, 'lmfao': 2031, 'true': 4021, 'stay': 3736, 'goo': 1530, 'theory': 3897, 'however': 1706, 'stunning': 3775, 'tiny': 3940, 'hashtag': 1623, 'wife': 4403, 'piano': 2499, 'tutorial': 4041, 'tremble': 4000, 'trouble': 4018, 'atop': 252, 'chart': 722, 'long': 2039, 'yeay': 4474, 'talented': 3836, 'video': 4289, 'rocklove': 3206, 'celebrate': 697, 'robert': 3200, 'lopez': 2046, 'academy': 13, 'award': 317, 'sang': 3303, 'melody': 2157, 'heaven': 1648, 'aesthetic': 65, 'appealing': 203, 'shot': 3550, 'colour': 809, 'bit': 536, 'close': 782, 'hmmm': 1676, 'digest': 1031, 'apart': 196, 'drawing': 1108, 'sooooo': 3673, 'goodness': 1533, 'draw': 1107, 'save': 3326, 'vocal': 4310, 'cord': 877, 'neighbour': 2297, 'perfectly': 2472, 'fine': 1361, 'spirit': 3708, 'pok': 2574, 'mon': 2218, 'disgust': 1055, 'ship': 3522, 'incest': 1766, 'fullmovie': 1457, 'spot': 3715, 'awaited': 313, 'party': 2451, 'business': 645, 'black': 539, 'ride': 3166, 'lmao': 2030, 'genderbend': 1484, 'frost': 1435, 'tho': 3910, 'au': 267, 'imma': 1753, 'quit': 2853, 'aways': 319, 'animal': 161, 'pre': 2646, 'annoy': 178, 'floor': 1382, 'loveeee': 2060, 'wonder': 4431, 'cinemas': 757, 'specific': 3695, 'thomas': 3911, 'sander': 3298, 'channel': 714, 'lgbt': 1995, 'disneyxd': 1071, 'side': 3577, 'square': 3719, 'rip': 3180, 'step': 3740, 'awhile': 325, 'job': 1854, 'pony': 2588, 'boyfriend': 590, 'songwriter': 3667, 'nearly': 2292, 'jacket': 1837, 'sequin': 3454, 'bc': 447, 'control': 864, 'hairstyle': 1599, 'cleveland': 776, 'rn': 3193, 'remind': 3051, 'cking': 764, 'crazy': 909, 'reminder': 3052, 'hat': 1624, 'drag': 1103, 'joke': 1858, 'instagram': 1796, 'shatter': 3497, 'least': 1974, 'dead': 975, 'drogon': 1117, 'gameofthrones': 1470, 'takeaway': 3831, 'josh': 1866, 'gad': 1465, 'someday': 3656, 'buddy': 632, 'lesson': 1991, 'anyway': 193, 'complexity': 833, 'significant': 3581, 'development': 1021, 'hop': 1695, 'son': 3665, 'visually': 4307, 'lore': 2048, 'worthy': 4447, 'successor': 3785, 'superheroes': 3803, 'freakin': 1418, 'kristenbell': 1930, 'sameenergy': 3292, 'reminds': 3053, 'harry': 1621, 'potter': 2631, 'enjoyable': 1207, 'wish': 4419, 'question': 2842, 'earn': 1135, 'tbh': 3848, 'happythanksgiving': 1615, 'barcabvb': 414, 'livnap': 2028, 'excellent': 1256, 'rhythmic': 3158, 'probably': 2716, 'husband': 1721, 'frozenelsa': 1443, 'luv': 2075, 'reach': 2915, 'pinch': 2507, 'pudgy': 2783, 'fr': 1412, 'deliver': 999, 'unique': 4085, 'storyline': 3755, 'stream': 3760, 'bringing': 613, 'rich': 3163, 'happiness': 1613, 'iloveher': 1746, 'unknooooown': 4127, 'put': 2812, 'awake': 315, 'distract': 1073, 'thousand': 3916, 'ignore': 1741, 'whisper': 4392, 'jungkook': 1876, 'showing': 3565, 'less': 1990, 'sibling': 3575, 'bee': 489, 'masterpiece': 2132, 'personally': 2482, 'writer': 4454, 'shin': 3520, 'example': 1253, 'non': 2320, 'toxic': 3971, 'crush': 928, 'pull': 2786, 'type': 4050, 'vadivelu': 4234, 'regalcinemas': 2996, 'app': 199, 'awaeseason': 311, 'uyangthandana': 4230, 'rhapsody': 3155, 'recommend': 2957, 'bts': 626, 'rm': 3191, 'superior': 3804, 'environ': 1216, 'google': 1537, 'facebook': 1289, 'royal': 3239, 'promotion': 2750, 'sabah': 3268, 'puma': 2787, 'chicken': 733, 'restaurant': 3118, 'subscribe': 3780, 'friends': 1429, 'gang': 1472, 'rainbowbricks': 2867, 'rent': 3068, 'dont': 1092, 'judge': 1870, 'originally': 2401, 'cost': 889, 'appear': 204, 'quick': 2846, 'summary': 3793, 'force': 1393, 'admire': 43, 'eat': 1144, 'ramyun': 2878, 'insecure': 1789, 'gayer': 1476, 'advertising': 60, 'yr': 4490, 'college': 804, 'reluctant': 3040, 'holiday': 1682, 'encourage': 1194, 'celebration': 698, 'coworker': 903, 'ruin': 3245, 'care': 678, 'bday': 452, 'poll': 2584, 'vote': 4313, 'obsessedwithexo': 2350, 'obsession': 2351, 'saynotoprank': 3334, 'mama': 2104, 'jamie': 1841, 'lifestyle': 2001, 'celebrity': 699, 'glorious': 1515, 'exceptional': 1259, 'criticism': 923, 'jisoo': 1853, 'dub': 1119, 'importantly': 1760, 'bet': 521, 'muktaa': 2251, 'bahrain': 382, 'hurt': 1720, 'smile': 3633, 'wit': 4422, 'king': 1905, 'area': 213, 'cuz': 942, 'incredible': 1770, 'exceed': 1254, 'executive': 1267, 'reflect': 2988, 'narrative': 2282, 'country': 897, 'regres': 3008, 'phone': 2494, 'coincidence': 795, 'sneaky': 3639, 'nod': 2316, 'bellshepardverse': 511, 'skill': 3608, 'marvel': 2123, 'luis': 2071, 'michael': 2184, 'pe': 2460, 'beginning': 495, 'endgame': 1197, 'exists': 1270, 'sense': 3438, 'chemistry': 730, 'language': 1948, 'shipping': 3524, 'regatul': 3002, 'de': 974, 'un': 4060, 'kay': 1887, 'display': 1072, 'talent': 3835, 'snap': 3636, 'kristoffs': 1934, 'brendon': 607, 'kristof': 1931, 'kinda': 1904, 'support': 3807, 'validate': 4238, 'rewind': 3152, 'bore': 576, 'af': 68, 'cutout': 941, 'easy': 1143, 'lov': 2057, 'episode': 1221, 'abeautifuldayintheneighborhood': 6, 'unpopular': 4179, 'heavily': 1649, 'unbelievably': 4065, 'complex': 832, 'who': 4395, 'yea': 4470, 'aurora': 273, 'cringe': 921, 'alive': 126, 'section': 3408, 'standout': 3726, 'anthem': 182, 'empower': 1189, 'lift': 2002, 'oaken': 2347, 'canon': 667, 'period': 2475, 'account': 19, 'due': 1121, 'spend': 3702, 'prepare': 2672, 'loved': 2059, 'near': 2291, 'order': 2399, 'premium': 2665, 'chri': 745, 'prof': 2729, 'lean': 1972, 'tree': 3998, 'remotely': 3058, 'co': 788, 'ang': 156, 'angel': 158, 'minus': 2201, 'multipass': 2253, 'outdo': 2410, 'predecessor': 2650, 'sight': 3579, 'queenandslim': 2831, 'fight': 1348, 'leftover': 1979, 'est': 1229, 'supply': 3806, 'finger': 1362, 'beanie': 460, 'size': 3603, 'various': 4250, 'artist': 228, 'popularity': 2598, 'awww': 331, 'wise': 4418, 'funkopop': 1461, 'popvinyl': 2599, 'list': 2018, 'rank': 2886, 'throat': 3922, 'ag': 84, 'goooood': 1541, 'vice': 4284, 'versa': 4271, 'allow': 130, 'beat': 464, 'others': 2406, 'papa': 2438, 'franklin': 1416, 'cream': 910, 'collective': 802, 'kiddos': 1898, 'general': 1485, 'tryi': 4028, 'jesus': 1850, 'christ': 747, 'tissue': 3943, 'trust': 4025, 'older': 2377, 'killer': 1901, 'meeting': 2154, 'shrek': 3570, 'continuation': 861, 'material': 2135, 'clean': 773, 'outside': 2412, 'page': 2426, 'shirt': 3528, 'available': 290, 'instantly': 1797, 'seriously': 3460, 'mention': 2167, 'cave': 694, 'reality': 2925, 'lea': 1967, 'launch': 1961, 'blockbuster': 548, 'update': 4198, 'gender': 1483, 'steal': 3738, 'blanket': 543, 'mad': 2081, 'rewatched': 3150, 'car': 676, 'airbender': 106, 'combine': 814, 'treat': 3995, 'bestie': 519, 'birthday': 533, 'jennifer': 1849, 'lee': 1977, 'direct': 1037, 'process': 2721, 'statement': 3734, 'june': 1875, 'wwe': 4459, 'nokk': 2318, 'alre': 134, 'total': 3963, 'fell': 1335, 'bf': 524, 'lang': 1947, 'ha': 1589, 'weep': 4371, 'saturate': 3320, 'triumph': 4014, 'own': 2420, 'beside': 516, 'analyze': 153, 'sick': 3576, 'reenact': 2983, 'throw': 3925, 'attackontitan': 256, 'straight': 3757, 'beauti': 468, 'prince': 2699, 'interest': 1804, 'ring': 3175, 'ear': 1133, 'ughh': 4053, 'boom': 573, 'dam': 952, 'kristoffandsven': 1933, 'folk': 1388, 'bea': 454, 'pound': 2633, 'bag': 378, 'remember': 3048, 'yep': 4477, 'epic': 1219, 'revea': 3136, 'babe': 343, 'scooby': 3366, 'doo': 1094, 'trailer': 3979, 'wednesday': 4363, 'projection': 2740, 'res': 3094, 'belt': 513, 'excitement': 1262, 'proce': 2719, 'rayu': 2909, 'blast': 544, 'vip': 4303, 'journey': 1868, 'indeed': 1772, 'billion': 530, 'secretny': 3407, 'parade': 2442, 'ny': 2345, 'despite': 1014, 'previously': 2690, 'assume': 239, 'europe': 1233, 'convince': 868, 'unmentioned': 4171, 'outtake': 2414, 'gym': 1588, 'unwind': 4193, 'ko': 1923, 'manood': 2111, 'ng': 2308, 'door': 1097, 'inner': 1785, 'innerchild': 1786, 'mentalhealth': 2166, 'gunna': 1584, 'obviously': 2353, 'ra': 2857, 'fucking': 1454, 'compose': 835, 'fil': 1351, 'bobby': 562, 'might': 2189, 'campaign': 660, 'soooooo': 3674, 'maleficent': 2101, 'mid': 2185, 'valley': 4240, 'edits': 1151, 'mute': 2264, 'anyways': 194, 'otherwise': 2407, 'elkie': 1165, 'jealous': 1846, 'kiss': 1907, 'platonic': 2524, 'holy': 1684, 'crap': 908, 'trip': 4012, 'norway': 2331, 'beg': 493, 'combo': 815, 'limit': 2012, 'land': 1945, 'entertaining': 1212, 'act': 26, 'surprisingly': 3815, 'wa': 4317, 'course': 899, 'looke': 2042, 'november': 2340, 'pokemonswordshield': 2578, 'pokemonswsh': 2579, 'permanent': 2477, 'ana': 152, 'colonization': 806, 'singing': 3591, 'avon': 304, 'sauce': 3324, 'hype': 1723, 'nice': 2311, 'nonetheless': 2322, 'arcade': 212, 'jom': 1862, 'craft': 907, 'peter': 2484, 'dust': 1128, 'pumped': 2789, 'moviereview': 2241, 'spectacle': 3697, 'movienight': 2240, 'yo': 4483, 'annual': 179, 'xmas': 4463, 'west': 4378, 'frozenanna': 1440, 'pls': 2551, 'screen': 3376, 'mag': 2085, 'thirst': 3908, 'bangtan': 406, 'spoil': 3710, 'arc': 211, 'pagalpanti': 2425, 'recognize': 2955, 'mattias': 2138, 'iduna': 1738, 'tarzan': 3846, 'unknoooooown': 4122, 'pacing': 2423, 'suck': 3786, 'min': 2193, 'hayley': 1632, 'rock': 3204, 'sassymcfrastersonpants': 3317, 'harder': 1617, 'suppose': 3808, 'venezuela': 4263, 'selfie': 3426, 'funkopopcollector': 1462, 'perfection': 2471, 'jonathangroff': 1864, 'quality': 2822, 'sisterly': 3598, 'plan': 2516, 'eventually': 1241, 'semi': 3429, 'pressure': 2683, 'sooner': 3670, 'vagina': 4235, 'messy': 2177, 'fast': 1316, 'behalf': 497, 'ryder': 3264, 'claim': 765, 'northuldra': 2329, 'fro': 1433, 'knife': 1914, 'regal': 2995, 'waterford': 4350, 'spectacular': 3698, 'unknoooooooooooown': 4106, 'mediocre': 2151, 'rush': 3257, 'maturity': 2140, 'poetic': 2568, 'minor': 2198, 'scroll': 3388, 'avoid': 302, 'impression': 1764, 'profound': 2734, 'butt': 648, 'favor': 1321, 'weird': 4374, 'kick': 1895, 'yeah': 4471, 'cosplay': 883, 'redr': 2977, 'videoclips': 4290, 'sensory': 3441, 'beautifully': 472, 'depth': 1006, 'fi': 1342, 'setting': 3467, 'afri': 78, 'di': 1024, 'band': 401, 'kiddo': 1897, 'sell': 3427, 'revival': 3146, 'era': 1225, 'john': 1855, 'plenty': 2546, 'joy': 1869, 'moviereviews': 2242, 'mint': 2200, 'refrain': 2990, 'spell': 3701, 'idiot': 1736, 'goodnight': 1534, 'mess': 2175, 'lord': 2047, 'dialogue': 1025, 'hell': 1654, 'recently': 2946, 'intend': 1801, 'embodiment': 1177, 'fairytale': 1295, 'ya': 4465, 'disneyanimation': 1059, 'snowstorm': 3648, 'infinitywar': 1780, 'slick': 3619, 'mature': 2139, 'remembers': 3050, 'vi': 4280, 'grant': 1561, 'george': 1490, 'aussieearpers': 274, 'cake': 655, 'ridiculo': 3168, 'soul': 3679, 'disneyplus': 1069, 'bother': 579, 'barnes': 418, 'noble': 2314, 'decade': 982, 'feature': 1329, 'wake': 4325, 'unintentional': 4084, 'nap': 2281, 'hang': 1608, 'retail': 3125, 'employee': 1188, 'jelsa': 1848, 'retweet': 3130, 'jackfrost': 1838, 'queenelsa': 2833, 'riseoftheguardians': 3183, 'completely': 831, 'nadiakhan': 2273, 'collect': 799, 'audience': 268, 'korea': 1925, 'rememberable': 3049, 'aw': 309, 'amc': 147, 'critic': 922, 'mini': 2197, 'summarize': 3792, 'utterly': 4225, 'delightful': 998, 'uplifting': 4203, 'villa': 4295, 'daddydaughterdate': 946, 'canadian': 662, 'hav': 1630, 'meh': 2156, 'immediately': 1755, 'sa': 3266, 'earth': 1136, 'evil': 1250, 'li': 1997, 'abt': 11, 'gobble': 1521, 'disneyland': 1064, 'enchant': 1192, 'redcarpet': 2970, 'leaf': 1970, 'monolith': 2221, 'lead': 1968, 'guest': 1581, 'kasi': 1886, 'endless': 1199, 'yay': 4469, 'hehe': 1652, 'olafquotes': 2373, 'except': 1258, 'religious': 3037, 'shoutout': 3555, 'disappointing': 1046, 'christoff': 749, 'sweep': 3819, 'distress': 1074, 'relationshipgoals': 3029, 'meme': 2160, 'bout': 583, 'harriet': 1620, 'ratedstush': 2897, 'sketchbook': 3607, 'graphite': 1563, 'fit': 1370, 'da': 943, 'generation': 1486, 'yeon': 4476, 'rendition': 3062, 'screaming': 3374, 'goat': 1520, 'bitch': 537, 'lover': 2063, 'amazon': 146, 'queerify': 2837, 'thru': 3926, 'elsamaren': 1170, 'pro': 2714, 'plat': 2521, 'bond': 570, 'oscar': 2403, 'yung': 4491, 'pod': 2562, 'sari': 3313, 'unknownnnnnnnnnnnnnn': 4149, 'australian': 277, 'cope': 873, 'ptsd': 2777, 'anxiety': 186, 'case': 685, 'figure': 1349, 'familiar': 1300, 'traumatic': 3990, 'either': 1157, 'mistake': 2204, 'double': 1098, 'theatre': 3886, 'discover': 1050, 'elf': 1164, 'shelf': 3509, 'luck': 2069, 'production': 2727, 'road': 3196, 'raise': 2870, 'cha': 709, 'omfg': 2379, 'epcot': 1218, 'link': 2015, 'weekday': 4368, 'agai': 85, 'as': 230, 'food': 1391, 'french': 1422, 'nerd': 2299, 'bucket': 631, 'pop': 2595, 'candy': 666, 'isaac': 1820, 'repost': 3083, 'repostplus': 3086, 'angry': 159, 'combat': 812, 'connect': 847, 'matter': 2137, 'continue': 862, 'roommate': 3220, 'glade': 1509, 'commercial': 822, 'obvious': 2352, 'cool': 872, 'icon': 1726, 'internet': 1807, 'promise': 2745, 'somehow': 3657, 'shipwreck': 3526, 'pregaming': 2660, 'glass': 1510, 'ro': 3194, 'odd': 2356, 'ther': 3898, 'whoever': 4397, 'foreshadowing': 1397, 'identity': 1733, 'blu': 554, 'ray': 2905, 'player': 2528, 'stack': 3721, 'ofc': 2358, 'shoehorn': 3537, 'pa': 2421, 'outstanding': 2413, 'goddaughter': 1524, 'collectible': 800, 'haul': 1627, 'particular': 2449, 'lostinthewoods': 2053, 'pure': 2801, 'cosplaying': 886, 'reference': 2985, 'hunt': 1718, 'dude': 1120, 'drama': 1105, 'comedy': 817, 'highl': 1666, 'hustler': 1722, 'snatch': 3637, 'edge': 1148, 'base': 423, 'fam': 1298, 'justice': 1879, 'smart': 3628, 'grader': 1554, 'fave': 1320, 'onthisday': 2389, 'isla': 1822, 'sword': 3823, 'mixed': 2206, 'serendipitous': 3456, 'test': 3870, 'lack': 1939, 'community': 824, 'stanning': 3727, 'contact': 854, 'scentsy': 3350, 'photography': 2496, 'stor': 3751, 'slim': 3622, 'inspiration': 1791, 'intotheunkown': 1810, 'drive': 1115, 'lately': 1954, 'tha': 3874, 'urge': 4210, 'ive': 1835, 'vague': 4236, 'soundt': 3683, 'mine': 2196, 'emotionally': 1187, 'almost': 131, 'dis': 1041, 'frosty': 1436, 'often': 2365, 'actual': 31, 'flood': 1381, 'midway': 2187, 'schuester': 3361, 'glee': 1511, 'burst': 643, 'extra': 1280, 'strike': 3764, 'han': 1604, 'wig': 4404, 'feast': 1328, 'raindeer': 2868, 'giveelsaagirlfriend': 1506, 'sanity': 3305, 'highly': 1668, 'adventurous': 57, 'waka': 4324, 'saks': 3281, 'avenue': 297, 'fabulous': 1287, 'capitan': 670, 'embarrass': 1176, 'clip': 781, 'thegeeklyretreat': 3889, 'alert': 122, 'shook': 3538, 'demand': 1001, 'up': 4195, 'meta': 2178, 'spent': 3704, 'dollar': 1087, 'moral': 2226, 'stole': 3748, 'reign': 3015, 'universa': 4090, 'digitalart': 1033, 'grandkids': 1559, 'cough': 893, 'theate': 3884, 'sequels': 3452, 'member': 2159, 'ama': 141, 'ahh': 95, 'bd': 451, 'out': 2409, 'nostalgic': 2334, 'broadway': 616, 'treatment': 3996, 'wishful': 4420, 'thinking': 3906, 'worthwhile': 4446, 'richard': 3164, 'bar': 412, 'request': 3092, 'petercetera': 2485, 'duty': 1129, 'premier': 2662, 'january': 1843, 'pray': 2645, 'ror': 3222, 'julia': 1872, 'olivia': 2378, 'authorize': 280, 'prequel': 2675, 'lovestory': 2064, 'pleaseeeee': 2542, 'abc': 5, 'oops': 2393, 'heartwarming': 1646, 'spotify': 3716, 'rrrrrrrrr': 3241, 'osts': 2405, 'petition': 2486, 'bolton': 568, 'air': 105, 'bi': 525, 'manuel': 2112, 'semingguan': 3430, 'bakalan': 384, 'seheboh': 3419, 'aka': 112, 'verrrry': 4269, 'patient': 2458, 'current': 934, 'fix': 1372, 'respond': 3112, 'sexuality': 3475, 'joshgad': 1867, 'disappointed': 1045, 'overall': 2415, 'lazy': 1965, 'chicago': 732, 'anderson': 155, 'roush': 3233, 'blonde': 550, 'crossover': 926, 'int': 1800, 'fearless': 1327, 'pumpkin': 2790, 'pie': 2503, 'bake': 385, 'anim': 160, 'omw': 2383, 'role': 3207, 'rehash': 3011, 'geekiary': 1480, 'brief': 610, 'queer': 2835, 'shane': 3491, 'dawson': 970, 'scam': 3339, 'eh': 1156, 'nephew': 2298, 'eek': 1153, 'havent': 1631, 'polish': 2581, 'casually': 689, 'redownloaded': 2976, 'xd': 4461, 'grossing': 1573, 'weather': 4359, 'boardwalk': 561, 'resort': 3108, 'shoot': 3539, 'conclusion': 840, 'agnarr': 89, 'genius': 1487, 'class': 770, 'cancel': 663, 'reese': 2984, 'piece': 2504, 'chocolate': 740, 'chip': 739, 'roll': 3208, 'slip': 3623, 'flat': 1376, 'impressive': 1765, 'ur': 4209, 'watched': 4346, 'cook': 870, 'darn': 965, 'beaty': 465, 'park': 2445, 'attire': 265, 'disneyparks': 1068, 'disneymerchandise': 1066, 'dare': 960, 'preview': 2688, 'adjust': 42, 'volume': 4312, 'track': 3975, 'exist': 1268, 'turn': 4039, 'paper': 2439, 'opening': 2395, 'seal': 3396, 'choice': 741, 'strong': 3766, 'autograph': 282, 'imagination': 1749, 'frame': 1414, 'romanticline': 3216, 'earthgiant': 1137, 'convinced': 869, 'theirishman': 3892, 'relentless': 3034, 'passage': 2455, 'receive': 2944, 'bundle': 639, 'destroy': 1016, 'allisfound': 128, 'explain': 1275, 'normal': 2327, 'autuma': 284, 'subtitle': 3781, 'showtime': 3568, 'precioso': 2648, 'reee': 2980, 'tasthic': 3847, 'return': 3129, 'rather': 2898, 'ac': 12, 'cinemark': 756, 'farmingdale': 1313, 'multiplex': 2255, 'birthdaygirl': 534, 'ployploydpix': 2550, 'com': 811, 'dislike': 1056, 'soundtrac': 3684, 'daily': 949, 'nature': 2286, 'therefore': 3901, 'addict': 38, 'soooo': 3672, 'loud': 2055, 'dad': 944, 'code': 793, 'emoti': 1184, 'begrudgingly': 496, 'repeatedly': 3074, 'hot': 1702, 'wednesdaywisdom': 4364, 'loudly': 2056, 'reprise': 3090, 'treatyoself': 3997, 'jonathon': 1865, 'image': 1748, 'sex': 3474, 'romance': 3214, 'rider': 3167, 'legend': 1981, 'serve': 3461, 'mash': 2126, 'potato': 2625, 'ranch': 2880, 'lady': 1940, 'proceed': 2720, 'ooh': 2391, 'itu': 1833, 'telling': 3861, 'ell': 1166, 'answer': 181, 'sh': 3478, 'vh': 4279, 'pula': 2785, 'ni': 2310, 'chat': 724, 'ba': 340, 'fifthelement': 1347, 'lilu': 2011, 'eva': 1234, 'naive': 2277, 'realiz': 2926, 'terrific': 3869, 'six': 3602, 'pt': 2776, 'reborn': 2937, 'congrats': 845, 'girldad': 1499, 'dadlife': 947, 'sassy': 3316, 'subtle': 3782, 'bam': 398, 'remembe': 3047, 'santa': 3307, 'sexy': 3477, 'sorrynotsorry': 3676, 'shenanigan': 3512, 'discuss': 1053, 'austin': 275, 'maria': 2114, 'house': 1704, 'apartment': 197, 'performance': 2474, 'goodbye': 1532, 'loyal': 2067, 'pug': 2784, 'sou': 3678, 'creativity': 914, 'disne': 1057, 'spanish': 3689, 'unknooooooown': 4119, 'unknowwwwwwn': 4159, 'sisterhood': 3597, 'resident': 3103, 'puppy': 2797, 'overthinking': 2419, 'struggle': 3767, 'knowledge': 1921, 'ford': 1394, 'mindhunter': 2195, 'undoubtedly': 4075, 'large': 1950, 'raking': 2873, 'majestic': 2092, 'saksxdisneyfrozen': 3283, 'potential': 2627, 'le': 1966, 'dumbo': 1124, 'gross': 1572, 'domestically': 1089, 'growth': 1578, 'path': 2457, 'retell': 3127, 'male': 2100, 'neighbor': 2295, 'lung': 2074, 'introduce': 1812, 'villain': 4297, 'tier': 3933, 'gif': 1494, 'react': 2916, 'aww': 330, 'prepared': 2673, 'mock': 2210, 'constant': 852, 'loop': 2044, 'correct': 882, 'heck': 1651, 'christoph': 750, 'rusty': 3261, 'atkohls': 248, 'ar': 210, 'search': 3397, 'goth': 1549, 'pointy': 2573, 'laughed': 1958, 'knock': 1919, 'resonate': 3107, 'unhappy': 4083, 'electric': 1162, 'recliner': 2952, 'gush': 1586, 'spending': 3703, 'slap': 3614, 'serviceable': 3463, 'lizard': 2029, 'laughter': 1960, 'sadness': 3274, 'unexpected': 4078, 'momlife': 2216, 'certainly': 706, 'cousins': 901, 'studio': 3770, 'fanfic': 1309, 'duh': 1123, 'count': 896, 'ultimate': 4058, 'playset': 2535, 'balcony': 391, 'ft': 1451, 'wed': 4361, 'wedding': 4362, 'queenanna': 2832, 'honor': 1694, 'closet': 783, 'cosplays': 887, 'unknoooooooooown': 4109, 'session': 3464, 'ponytail': 2590, 'annas': 172, 'whew': 4389, 'confuse': 843, 'unknoooowwwwwn': 4132, 'ugh': 4052, 'clothing': 785, 'putin': 2813, 'trump': 4024, 'resignation': 3104, 'prior': 2709, 'mysterious': 2269, 'knowledgeable': 1922, 'bawl': 437, 'thenextrightthing': 3896, 'unless': 4166, 'ed': 1147, 'pas': 2452, 'filmtwitter': 1356, 'ava': 287, 'small': 3627, 'sehr': 3420, 'text': 3871, 'embrace': 1178, 'colourpopgivesback': 810, 'reina': 3016, 'apparently': 201, 'underwhelming': 4073, 'thread': 3918, 'writing': 4455, 'author': 279, 'muchom': 2250, 'sall': 3287, 'portrayal': 2612, 'equal': 1222, 'lem': 1985, 'scream': 3373, 'cartoony': 684, 'age': 87, 'pizza': 2511, 'glory': 1516, 'storytelling': 3756, 'newly': 2304, 'recast': 2941, 'praise': 2644, 'masculinity': 2125, 'careful': 680, 'consideration': 851, 'pet': 2483, 'solve': 3654, 'advertisement': 59, 'dec': 981, 'till': 3936, 'plus': 2554, 'se': 3391, 'barrett': 420, 'gr': 1551, 'etc': 1231, 'inspired': 1793, 'behemoth': 499, 'conversation': 867, 'reposted': 3084, 'regrann': 3007, 'surprised': 3813, 'vince': 4299, 'rukh': 3247, 'seabrook': 3394, 'ahhh': 96, 'ahhhhh': 98, 'wayyyy': 4354, 'askingforafriend': 236, 'preach': 2647, 'equally': 1223, 'spy': 3718, 'begin': 494, 'reassure': 2933, 'anxious': 187, 'frustrate': 1450, 'montage': 2222, 'preslie': 2680, 'indy': 1777, 'shriek': 3571, 'lullaby': 2072, 'festive': 1340, 'justin': 1880, 'thu': 3927, 'teach': 3851, 'asap': 231, 'wknd': 4426, 'screw': 3385, 'blog': 549, 'feedback': 1331, 'bloody': 551, 'heartbreaking': 1645, 'simply': 3586, 'deeply': 992, 'punksthetic': 2796, 'elsaandanna': 1168, 'por': 2600, 'los': 2049, 'relatable': 3023, 'rio': 3178, 'finna': 1364, 'slide': 3620, 'legitimately': 1983, 'unfortunately': 4081, 'unknoooooowwnn': 4124, 'procreate': 2723, 'restrictive': 3121, 'anne': 173, 'trapper': 3987, 'colonialism': 805, 'unknownnnmnn': 4143, 'sballads': 3336, 'welp': 4377, 'pretend': 2684, 'lgbtq': 1996, 'tryin': 4029, 'joliet': 1861, 'girltime': 1503, 'movieday': 2237, 'caption': 673, 'unlimite': 4169, 'blind': 546, 'horrify': 1699, 'ppl': 2642, 'mac': 2078, 'online': 2387, 'political': 2582, 'congratulation': 846, 'kristen': 1928, 'evening': 1238, 'discount': 1048, 'sale': 3286, 'ti': 3930, 'razor': 2910, 'sharp': 3496, 'variety': 4249, 'queeniduna': 2834, 'winner': 4412, 'seven': 3469, 'decoration': 988, 'advent': 53, 'terrible': 3868, 'spoileralert': 3712, 'sticker': 3745, 'shop': 3541, 'smth': 3635, 'wicked': 4400, 'ban': 399, 'brother': 618, 'dance': 955, 'precious': 2649, 'shopdisney': 3542, 'ornament': 2402, 'item': 1832, 'mythical': 2271, 'anticipated': 184, 'beautifuldaymovie': 471, 'amas': 142, 'blackfriday': 540, 'unpopularopinion': 4180, 'yoda': 4484, 'mandalorian': 2109, 'starwarstheriseofskywalker': 3732, 'recover': 2964, 'mommy': 2217, 'ua': 4051, 'washington': 4342, 'town': 3970, 'pair': 2430, 'imessage': 1752, 'io': 1816, 'desperate': 1013, 'flawless': 1377, 'autain': 278, 'afp': 76, 'fantasy': 1311, 'controversial': 865, 'interesting': 1806, 'hide': 1664, 'secretly': 3406, 'aaaa': 0, 'bande': 402, 'untill': 4187, 'forgot': 1402, 'cheesy': 728, 'unrequited': 4183, 'whi': 4390, 'bravo': 597, 'multiple': 2254, 'disneymovies': 1067, 'advice': 61, 'saratoga': 3310, 'bocindia': 563, 'rotten': 3227, 'result': 3122, 'storm': 3753, 'babyclub': 349, 'babycinema': 348, 'painting': 2429, 'lareinedesneiges': 1949, 'dallas': 951, 'trigger': 4005, 'coffee': 794, 'genuinely': 1489, 'fictional': 1343, 'hopefully': 1697, 'lemans': 1986, 'playingwithfiremovie': 2532, 'sugardaddy': 3789, 'seekingarrangement': 3415, 'amaz': 143, 'exclusively': 1265, 'sho': 3532, 'thi': 3903, 'joker': 1859, 'mass': 2130, 'shooting': 3540, 'renovate': 3066, 'boxofficevmtv': 587, 'sport': 3714, 'cap': 669, 'slaughter': 3615, 'lane': 1946, 'grab': 1552, 'human': 1714, 'balad': 388, 'effect': 1154, 'adore': 49, 'pandora': 2434, 'rescuer': 3096, 'advantage': 52, 'hmm': 1675, 'alright': 136, 'goody': 1535, 'massively': 2131, 'backup': 365, 'brandon': 594, 'register': 3005, 'sayin': 3333, 'trek': 3999, 'edit': 1149, 'lo': 2032, 'america': 149, 'haha': 1591, 'unownnnnnn': 4177, 'reaaaal': 2914, 'ame': 148, 'unknnnnoooooowwwwn': 4096, 'article': 227, 'shall': 3484, 'jus': 1877, 'smash': 3629, 'astound': 240, 'excuse': 1266, 'kpop': 1927, 'reggaeton': 3003, 'tue': 4033, 'height': 1653, 'stellar': 3739, 'david': 969, 'laughing': 1959, 'certain': 705, 'movielover': 2239, 'centre': 701, 'igloo': 1740, 'ish': 1821, 'badasses': 369, 'yup': 4492, 'difference': 1028, 'asleep': 237, 'registration': 3006, 'pocahontas': 2559, 'martin': 2122, 'presence': 2677, 'madbeauty': 2082, 'peaceful': 2461, 'sudden': 3787, 'fly': 1386, 'turtle': 4040, 'breathe': 605, 'thanos': 3881, 'belong': 512, 'walt': 4332, 'avengersendgame': 295, 'nail': 2276, 'science': 3363, 'phd': 2489, 'program': 2735, 'amount': 151, 'scent': 3349, 'domestic': 1088, 'sigh': 3578, 'rinse': 3177, 'cameo': 659, 'energy': 1200, 'travel': 3992, 'pouch': 2632, 'elsafrozen': 1169, 'myart': 2268, 'ahhhhhh': 99, 'japan': 1844, 'pin': 2506, 'recyclables': 2968, 'leader': 1969, 'mx': 2267, 'glob': 1513, 'strange': 3758, 'basis': 426, 'colorado': 808, 'connection': 848, 'sp': 3687, 'dangerous': 958, 'quest': 2840, 'golden': 1528, 'retriever': 3128, 'sabrina': 3270, 'acoustic': 24, 'bell': 510, 'average': 299, 'bish': 535, 'core': 878, 'horizon': 1698, 'accept': 14, 'response': 3113, 'global': 1514, 'flurry': 1385, 'rant': 2888, 'fear': 1326, 'trivia': 4016, 'et': 1230, 'batman': 433, 'headline': 1636, 'trinidad': 4009, 'breath': 604, 'palette': 2433, 'brand': 593, 'mostly': 2228, 'quantum': 2825, 'tech': 3854, 'fordvsferrari': 1396, 'view': 4292, 'composer': 836, 'vendetta': 4261, 'couch': 892, 'ep': 1217, 'dy': 1132, 'dessert': 1015, 'form': 1403, 'shield': 3516, 'ranking': 2887, 'scary': 3344, 'within': 4424, 'beta': 522, 'romcom': 3217, 'hint': 1672, 'plausibly': 2525, 'queerness': 2838, 'wall': 4329, 'block': 547, 'apology': 198, 'againnnn': 86, 'isnt': 1823, 'somethingsneverchange': 3661, 'scarf': 3342, 'matinee': 2136, 'doctorsleep': 1081, 'weekly': 4370, 'gem': 1482, 'underwear': 4071, 'print': 2707, 'relati': 3026, 'warmer': 4339, 'undertone': 4070, 'apply': 207, 'skate': 3605, 'banger': 403, 'heat': 1647, 'predictable': 2654, 'boi': 565, 'td': 3849, 'dominate': 1090, 'ramona': 2876, 'anywhere': 195, 'fandom': 1308, 'flame': 1375, 'unleash': 4165, 'childhood': 735, 'blame': 542, 'defy': 995, 'ahhhh': 97, 'several': 3471, 'career': 679, 'candid': 665, 'christophe': 751, 'regardless': 3001, 'vuelie': 4315, 'variation': 4248, 'surely': 3810, 'onward': 2390, 'deserves': 1009, 'idinamenzel': 1735, 'hd': 1633, 'bbc': 442, 'bedtime': 488, 'robin': 3202, 'rape': 2889, 'attempt': 257, 'arrest': 222, 'podcapers': 2563, 'podernfamily': 2566, 'kitchen': 1910, 'table': 3825, 'specially': 3694, 'crew': 918, 'idc': 1730, 'happily': 1612, 'pride': 2695, 'madness': 2084, 'earworm': 1138, 'flow': 1384, 'avoiding': 303, 'bbi': 444, 'anga': 157, 'century': 702, 'sky': 3611, 'mr': 2247, 'segment': 3418, 'ward': 4336, 'state': 3733, 'made': 2083, 'mf': 2181, 'movietalkwithandres': 2243, 'bridge': 608, 'respectively': 3111, 'huh': 1710, 'separate': 3447, 'rule': 3248, 'fat': 1317, 'vault': 4254, 'peak': 2462, 'sup': 3800, 'uncover': 4067, 'truth': 4026, 'mercari': 2170, 'tap': 3843, 'sign': 3580, 'bruh': 623, 'ab': 4, 'waaay': 4319, 'china': 738, 'somewherewinter': 3664, 'unpack': 4178, 'physic': 2497, 'twilight': 4045, 'hunger': 1717, 'disneybound': 1060, 'icy': 1728, 'yotes': 4487, 'confident': 841, 'bu': 628, 'ross': 3224, 'phil': 2492, 'franchise': 1415, 'peek': 2465, 'creative': 913, 'og': 2366, 'corporation': 881, 'profit': 2732, 'decision': 985, 'familytime': 1304, 'comic': 819, 'prep': 2670, 'upon': 4205, 'reflection': 2989, 'revise': 3143, 'pen': 2467, 'impossible': 1761, 'overcome': 2416, 'calendar': 656, 'booking': 572, 'marketrajambbs': 2119, 'rgblaserinsivasakthi': 3154, 'unknowwwnnnnnnn': 4153, 'ahhhhhhh': 100, 'marketing': 2118, 'impact': 1757, 'awe': 320, 'marry': 2121, 'reposting': 3085, 'unknowwwwwwnnnnnn': 4161, 'unknooooooooooown': 4107, 'unooooooooooooooooooooooooowwwwwnnnnnn': 4174, 'anybody': 188, 'specifically': 3696, 'license': 1998, 'whatever': 4384, 'uh': 4055, 'dc': 973, 'instrumental': 1799, 'regarder': 2999, 'rushed': 3258, 'aim': 103, 'lightning': 2004, 'tv': 4042, 'knives': 1915, 'sat': 3318, 'stuffed': 3773, 'unlikely': 4168, 'similar': 3584, 'redeemed': 2974, 'evolution': 1251, 'chef': 729, 'rowdy': 3237, 'deal': 976, 'playin': 2530, 'relistened': 3038, 'minority': 2199, 'aaaaaaaaa': 1, 'quote': 2856, 'shout': 3554, 'salad': 3284, 'plate': 2522, 'batten': 434, 'tl': 3946, 'underwhelmed': 4072, 'sc': 3337, 'contrast': 863, 'klaus': 1911, 'wherein': 4387, 'background': 362, 'stage': 3722, 'novel': 2339, 'advocacy': 62, 'movement': 2233, 'froze': 1438, 'tracklist': 3976, 'snippet': 3641, 'rhythm': 3157, 'forgettable': 1401, 'space': 3688, 'trash': 3988, 'major': 2094, 'baddddddd': 371, 'unkn': 4095, 'jackson': 1839, 'shou': 3551, 'everybody': 1245, 'tea': 3850, 'tremendous': 4001, 'rouse': 3232, 'lamp': 1944, 'bubble': 629, 'chilly': 737, 'advert': 58, 'dedicate': 989, 'user': 4218, 'rebecca': 2934, 'layout': 1964, 'bio': 531, 'downtown': 1100, 'bedroom': 487, 'badass': 368, 'somebody': 3655, 'speed': 3700, 'victim': 4285, 'infinity': 1779, 'advance': 51, 'hundred': 1716, 'superman': 3805, 'useless': 4217, 'pleaseeee': 2541, 'machete': 2079, 'favour': 1323, 'pleasure': 2544, 'beautys': 474, 'ganda': 1471, 'emma': 1181, 'su': 3778, 'ran': 2879, 'rain': 2866, 'arriving': 225, 'producer': 2725, 'vecho': 4255, 'rainy': 2869, 'toe': 3953, 'behave': 498, 'bear': 461, 'circle': 762, 'psychotic': 2775, 'predic': 2652, 'baba': 342, 'speaking': 3692, 'rian': 3161, 'rea': 2913, 'giant': 1493, 'doyouwanttobuildasnowman': 1101, 'realise': 2924, 'tr': 3974, 'um': 4059, 'smoke': 3634, 'pixar': 2510, 'reckon': 2950, 'glacier': 1507, 'ak': 111, 'endear': 1196, 'wallpaper': 4330, 'making': 2098, 'confused': 844, 'impressed': 1763, 'field': 1344, 'bus': 644, 'cloud': 786, 'mov': 2231, 'groffsauce': 1571, 'singer': 3590, 'repetir': 3076, 'unknooooooooooooooooooooo': 4101, 'karaoke': 1884, 'repertoire': 3075, 'weed': 4366, 'scoobie': 3365, 'schizo': 3357, 'goosebumps': 1544, 'whats': 4385, 'cineplex': 759, 'fringe': 1432, 'quand': 2823, 'disneylandparis': 1065, 'hangry': 1609, 'woke': 4428, 'fairy': 1294, 'unknownnnnnnnnnn': 4148, 'unknownnnnnnnnnnnnnnn': 4150, 'braver': 596, 'cgi': 708, 'onion': 2386, 'relevant': 3035, 'ou': 2408, 'clash': 769, 'moviegoer': 2238, 'appeal': 202, 'dm': 1079, 'extended': 1279, 'fox': 1410, 'becaus': 479, 'victoryroyale': 4286, 'breakout': 603, 'bein': 503, 'sentimental': 3443, 'avera': 298, 'giggle': 1496, 'breakfast': 602, 'lunch': 2073, 'study': 3771, 'captivate': 674, 'punks': 2795, 'female': 1337, 'murder': 2257, 'waited': 4322, 'relief': 3036, 'naidu': 2275, 'sanam': 3297, 'hhhh': 1661, 'mor': 2225, 'burn': 642, 'badassprincesses': 370, 'bbysitting': 446, 'bby': 445, 'resist': 3105, 'bos': 577, 'platinum': 2523, 'goddess': 1525, 'lit': 2021, 'affff': 71, 'oldenburg': 2376, 'semua': 3431, 'tara': 3844, 'lowkey': 2066, 'creation': 912, 'unanswered': 4062, 'brain': 592, 'taeyeon': 3827, 'dax': 971, 'shepard': 3513, 'sin': 3587, 'resurrecte': 3123, 'makingmemories': 2099, 'sculpting': 3389, 'zbrush': 4493, 'fullmov': 1456, 'clothes': 784, 'routine': 3235, 'easter': 1142, 'egg': 1155, 'sara': 3308, 'bareilles': 416, 'overrated': 2418, 'max': 2141, 'attach': 254, 'public': 2779, 'mi': 2182, 'adopt': 47, 'range': 2885, 'mask': 2128, 'bluray': 558, 'vacation': 4232, 'pun': 2791, 'lagi': 1941, 'arendele': 214, 'unironically': 4086, 'goddamn': 1523, 'impeccable': 1758, 'universe': 4092, 'company': 826, 'disability': 1042, 'watchi': 4347, 'unown': 4176, 'pokepuns': 2580, 'adapt': 36, 'seemslegit': 3417, 'frozone': 1448, 'history': 1673, 'rebellion': 2935, 'flesh': 1378, 'warning': 4341, 'playing': 2531, 'shame': 3487, 'lay': 1962, 'swear': 3818, 'contender': 856, 'duration': 1127, 'underrated': 4068, 'kristoph': 1935, 'grammy': 1555, 'grocery': 1569, 'nope': 2326, 'reclining': 2953, 'weight': 4373, 'guilt': 1583, 'potentielly': 2629, 'coronation': 879, 'rating': 2899, 'regret': 3009, 'site': 3600, 'vascularsurgeon': 4251, 'custom': 936, 'website': 4360, 'client': 778, 'rayne': 2907, 'psycho': 2774, 'univ': 4089, 'beefy': 490, 'goofy': 1536, 'hangyul': 1610, 'cetera': 707, 'screech': 3375, 'banshee': 409, 'replay': 3079, 'bill': 528, 'cocktail': 791, 'roar': 3197, 'kellogg': 1890, 'duo': 1126, 'ako': 115, 'hahahahaha': 1596, 'troy': 4020, 'addition': 39, 'rate': 2896, 'inferior': 1778, 'brings': 614, 'smh': 3632, 'none': 2321, 'soulmate': 3681, 'peanut': 2463, 'odeon': 2357, 'quay': 2827, 'mp': 2246, 'worldbuilding': 4441, 'fresh': 1423, 'jaw': 1845, 'nonton': 2323, 'mma': 2207, 'themandalorian': 3894, 'mega': 2155, 'tour': 3967, 'filmmaker': 1355, 'sendhelp': 3435, 'portray': 2611, 'balance': 390, 'clearly': 775, 'prettiest': 2686, 'pant': 2437, 'bolder': 567, 'ravishingly': 2904, 'ten': 3863, 'sniff': 3640, 'hum': 1713, 'sequal': 3450, 'liked': 2008, 'unknownnnnnnnn': 4147, 'usa': 4213, 'delete': 996, 'babyyoda': 357, 'avail': 288, 'esp': 1227, 'sash': 3315, 'unknowwwwnnnnnn': 4155, 'roller': 3209, 'coaster': 789, 'animati': 165, 'inlove': 1784, 'leeloo': 1978, 'thefifthelement': 3888, 'uneven': 4077, 'fir': 1365, 'zootopia': 4498, 'unforgettable': 4080, 'wet': 4380, 'brush': 625, 'detangler': 1018, 'moviedate': 2236, 'tire': 3941, 'motion': 2230, 'slightly': 3621, 'relative': 3030, 'separately': 3448, 'discus': 1052, 'utter': 4224, 'host': 1701, 'turkey': 4038, 'avocado': 301, 'sandwich': 3302, 'gown': 1550, 'calm': 658, 'upchar': 4196, 'blackpink': 541, 'tame': 3839, 'unknooowwwwnnn': 4136, 'frozenfever': 1445, 'cancer': 664, 'froz': 1437, 'donate': 1091, 'crime': 920, 'sadder': 3272, 'wala': 4326, 'ma': 2077, 'rin': 3174, 'yong': 4485, 'unknooooooooooooown': 4105, 'sih': 3582, 'ol': 2371, 'uwu': 4228, 'fourth': 1409, 'proposal': 2761, 'gosh': 1547, 'shed': 3503, 'donut': 1093, 'smatha': 3630, 'replace': 3078, 'wrap': 4451, 'superb': 3802, 'develop': 1020, 'towards': 3969, 'relax': 3031, 'yah': 4467, 'waaaa': 4318, 'grandfather': 1558, 'scheming': 3356, 'girls': 1502, 'copyright': 876, 'holder': 1680, 'huhuhu': 1712, 'trap': 3985, 'being': 504, 'saun': 3325, 'plo': 2548, 'bjp': 538, 'ajitpawar': 110, 'balakot': 389, 'vid': 4287, 'bb': 441, 'chi': 731, 'kor': 1924, 'cheap': 725, 'planning': 2519, 'uuuhh': 4227, 'bunch': 638, 'professional': 2730, 'portrayed': 2613, 'hahahaha': 1595, 'low': 2065, 'service': 3462, 'announcement': 177, 'bomb': 569, 'pseudoscience': 2772, 'fair': 1293, 'modern': 2213, 'scien': 3362, 'graphic': 1562, 'wardrobe': 4337, 'epilogue': 1220, 'seize': 3421, 'across': 25, 'stone': 3749, 'avenger': 294, 'commit': 823, 'avoninsider': 306, 'avonholiday': 305, 'avonkids': 307, 'frozenfanart': 1444, 'east': 1141, 'hampton': 1603, 'familyfun': 1302, 'homedecor': 1686, 'usto': 4220, 'wt': 4457, 'theriseofskywalker': 3902, 'preparation': 2671, 'yaaaaay': 4466, 'achievement': 22, 'refresh': 2991, 'huhu': 1711, 'sailor': 3278, 'goood': 1539, 'aint': 104, 'baru': 422, 'tgk': 3872, 'veel': 4256, 'satisfy': 3319, 'darkness': 963, 'disneyfilms': 1062, 'emilia': 1179, 'clarke': 768, 'akong': 116, 'philippine': 2493, 'releas': 3032, 'unofficial': 4173, 'woo': 4434, 'follower': 1390, 'timeline': 3939, 'hal': 1600, 'alexa': 123, 'unveil': 4189, 'ball': 393, 'kno': 1918, 'butttt': 650, 'shem': 3511, 'uuuggghhh': 4226, 'scalp': 3338, 'unknoooooooo': 4100, 'dig': 1030, 'weak': 4356, 'atthistable': 264, 'sebagus': 3402, 'varaku': 4246, 'ringtone': 3176, 'wx': 4460, 'unknooooooowwwwwwnnnnnnnnnn': 4121, 'renovation': 3067, 'hail': 1597, 'offense': 2359, 'carnival': 681, 'athletes': 244, 'intro': 1811, 'unmentable': 4170, 'mashup': 2127, 'prin': 2698, 'unknooown': 4134, 'burden': 640, 'involve': 1814, 'cinematic': 758, 'toge': 3954, 'gooooood': 1542, 'nervous': 2300, 'upside': 4208, 'strangerthings': 3759, 'claire': 766, 'babineaux': 346, 'revelation': 3138, 'wor': 4436, 'lost': 2052, 'complaint': 829, 'puppymill': 2798, 'vievs': 4291, 'load': 2033, 'sadly': 3273, 'shoutouts': 3556, 'memorable': 2161, 'sana': 3296, 'therapist': 3899, 'aunt': 272, 'shayne': 3500, 'admittedly': 46, 'product': 2726, 'sheer': 3507, 'royalty': 3240, 'bali': 392, 'shut': 3572, 'directly': 1039, 'room': 3219, 'qualify': 2821, 'debate': 979, 'whether': 4388, 'heal': 1637, 'irishman': 1818, 'memorize': 2162, 'weezer': 4372, 'sekeren': 3422, 'banget': 404, 'wax': 4351, 'purchase': 2800, 'separa': 3446, 'becomingdrclark': 484, 'bird': 532, 'rydoff': 3265, 'olafs': 2374, 'somethings': 3660, 'rare': 2892, 'baker': 386, 'wdw': 4355, 'merch': 2171, 'wewantbruni': 4381, 'bold': 566, 'dir': 1036, 'arrives': 224, 'puremagic': 2803, 'atsinamahanakongmganakko': 253, 'rosalina': 3223, 'princessdaisy': 2702, 'plagiarism': 2515, 'afterthewedding': 83, 'fancy': 1307, 'tmrw': 3947, 'university': 4093, 'progress': 2737, 'boyband': 589, 'accord': 18, 'rake': 2872, 'barbara': 413, 'nyc': 2346, 'scentsyuk': 3352, 'waxwarmer': 4352, 'uk': 4057, 'trans': 3981, 'baekayeon': 376, 'accurate': 20, 'highlight': 1667, 'seek': 3414, 'sen': 3432, 'ebay': 1145, 'vidcast': 4288, 'festival': 1339, 'bec': 476, 'toss': 3962, 'proof': 2754, 'trippy': 4013, 'brought': 619, 'anytime': 192, 'whilst': 4391, 'enhance': 1204, 'renounce': 3065, 'lock': 2036, 'grip': 1568, 'spiderman': 3706, 'gooooo': 1540, 'unknoooooooownnnnnnnnnnnnnnnnn': 4114, 'fill': 1353, 'empty': 1190, 'whoa': 4396, 'vastness': 4253, 'everrrrrr': 1243, 'scattered': 3346, 'prime': 2697, 'poncho': 2586, 'triggering': 4006, 'adventuresofavaryeliza': 55, 'remix': 3055, 'fab': 1285, 'haunt': 1628, 'van': 4243, 'puro': 2805, 'sandly': 3301, 'babyfriendly': 350, 'thegoodliar': 3890, 'zepeto': 4494, 'shiiiiiiii': 3518, 'afford': 74, 'aladdin': 119, 'chapter': 715, 'veteran': 4277, 'red': 2969, 'direction': 1038, 'randomly': 2883, 'baffle': 377, 'wh': 4382, 'wee': 4365, 'revision': 3144, 'title': 3944, 'lastchristmasmovie': 1952, 'bluestorymovie': 557, 'bridgesmovie': 609, 'successfully': 3784, 'wine': 4411, 'bae': 374, 'goosebump': 1543, 'firework': 1368, 'barkada': 417, 'sial': 3574, 'shirin': 3527, 'tsk': 4031, 'thats': 3882, 'puzzle': 2815, 'pardon': 2443, 'wha': 4383, 'samgyup': 3293, 'scb': 3347, 'ben': 515, 'isolation': 1824, 'plis': 2547, 'frozenkristoff': 1447, 'issa': 1825, 'nak': 2278, 'rust': 3260, 'interact': 1803, 'shoe': 3535, 'regular': 3010, 'nw': 2344, 'apparel': 200, 'wild': 4405, 'ri': 3160, 'unknooooowwwnnn': 4129, 'sararue': 3309, 'insta': 1795, 'swoop': 3822, 'unkno': 4098, 'exo': 1271, 'mv': 2265, 'bagus': 380, 'bankbook': 408, 'quinzel': 2851, 'leslie': 1989, 'geek': 1479, 'twt': 4049, 'preparo': 2674, 'attenborough': 258, 'lik': 2006, 'unveiled': 4190, 'iceland': 1725, 'steve': 3743, 'bow': 584, 'ideal': 1732, 'inch': 1767, 'wip': 4415, 'remove': 3059, 'drew': 1112, 'usd': 4215, 'gopalan': 1545, 'atd': 241, 'reservation': 3101, 'recognition': 2954, 'reunion': 3133, 'awaken': 316, 'presinto': 2679, 'unknoooooooooooooown': 4104, 'affect': 70, 'san': 3295, 'unknoooooooowwwwwwwwwwnnnnnnnnnnn': 4118, 'vibes': 4283, 'unknow': 4141, 'panicatthedisco': 2436, 'model': 2212, 'musi': 2260, 'ayume': 337, 'riot': 3179, 'rwp': 3262, 'questa': 2841, 'rabbit': 2858, 'hole': 1681, 'saenai': 3275, 'heroine': 1659, 'spinner': 3707, 'oc': 2354, 'loosely': 2045, 'pero': 2479, 'purest': 2804, 'choke': 742, 'pleaseee': 2540, 'shazam': 3501, 'literal': 2023, 'restrict': 3120, 'publicity': 2780, 'millennial': 2190, 'slam': 3613, 'fascinate': 1314, 'numerous': 2342, 'bbcbreakfast': 443, 'queue': 2844, 'ing': 1783, 'comment': 820, 'aah': 3, 'russian': 3259, 'belik': 509, 'location': 2035, 'bottle': 580, 'shameless': 3488, 'sheffield': 3508, 'atoholla': 251, 'rollercoaster': 3210, 'radio': 2864, 'mermaid': 2173, 'unknowwwww': 4157, 'babyyyy': 359, 'apple': 206, 'gayle': 1477, 'allegory': 127, 'beach': 455, 'liiiiiife': 2005, 'senior': 3436, 'household': 1705, 'incredib': 1769, 'strength': 3762, 'usual': 4221, 'halloween': 1602, 'leak': 1971, 'vari': 4247, 'tiktok': 3935, 'layer': 1963, 'def': 993, 'surpass': 3811, 'affiliate': 72, 'street': 3761, 'ruru': 3256, 'sheen': 3504, 'redraws': 2978, 'tangledtheseries': 3842, 'desk': 1012, 'withdraw': 4423, 'teenager': 3858, 'dragon': 1104, 'vanimacion': 4245, 'allison': 129, 'ayan': 334, 'vinyl': 4300, 'rewatch': 3149, 'thou': 3913, 'pitchy': 2508, 'veil': 4259, 'captain': 671, 'planet': 2517, 'produce': 2724, 'ada': 34, 'admission': 44, 'deeper': 991, 'affordable': 75, 'address': 40, 'unknooooooooowwwwwwnnnnn': 4112, 'emily': 1180, 'rheumatoid': 3156, 'princesselsa': 2703, 'shabby': 3479, 'kept': 1892, 'verge': 4268, 'plastic': 2520, 'whistle': 4393, 'attitude': 266, 'breathtaking': 606, 'renhyuck': 3064, 'unknoooooooooooooooooooooooooooooooooown': 4102, 'belting': 514, 'loss': 2051, 'unknoowwwwwnnn': 4140, 'alternative': 138, 'unstable': 4185, 'entirely': 1214, 'unknownnnnnnn': 4146, 'necklace': 2293, 'toystory': 3973, 'positive': 2616, 'unknoooooowwwnnnnnnnn': 4126, 'unknooooooowwwwwnnnn': 4120, 'unknoooooooooowwwwwwwwwnnnnnn': 4110, 'willing': 4406, 'bot': 578, 'remote': 3057, 'dammit': 953, 'badly': 373, 'florida': 1383, 'attending': 261, 'ahtohallan': 101, 'setia': 3466, 'shea': 3502, 'preordernow': 2668, 'shift': 3517, 'er': 1224, 'pota': 2624, 'sec': 3403, 'advocate': 63, 'individual': 1776, 'potentially': 2628, 'scoring': 3370, 'feelin': 1333, 'echo': 1146, 'fricken': 1425, 'utilize': 4223, 'shortened': 3548, 'itch': 1831, 'selection': 3423, 'istg': 1828, 'aaaaah': 2, 'pokemon': 2575, 'spongebob': 3713, 'princessk': 2704, 'viewing': 4294, 'quirky': 2852, 'unya': 4194, 'romaku': 3213, 'vulnerable': 4316, 'stark': 3729, 'gooo': 1538, 'chord': 744, 'yey': 4481, 'awkwa': 326, 'ohhhhh': 2368, 'pleas': 2537, 'steady': 3737, 'bayma': 438, 'fake': 1296, 'raspyvoice': 2894, 'potg': 2630, 'thelionking': 3893, 'maleficentmistressofevil': 2102, 'creature': 916, 'rev': 3135, 'friggin': 1431, 'racialjustice': 2862, 'racial': 2861, 'main': 2090, 'suggest': 3790, 'kudos': 1936, 'fin': 1357, 'yeahh': 4472, 'wr': 4450, 'cash': 686, 'eleanor': 1161, 'shellstrop': 3510, 'projector': 2741, 'activate': 28, 'unknowwwwnnnnnnnnn': 4156, 'permanently': 2478, 'dip': 1035, 'schroeder': 3360, 'sandhyasuperfan': 3300, 'sandhya': 3299, 'mystery': 2270, 'quickly': 2847, 'garden': 1474, 'shove': 3557, 'middle': 2186, 'unbelievable': 4064, 'snowball': 3643, 'priceless': 2694, 'genre': 1488, 'uno': 4172, 'reverse': 3140, 'avatarthelastairbender': 293, 'immediate': 1754, 'retcon': 3126, 'posse': 2617, 'lion': 2016, 'dak': 950, 'jean': 1847, 'manasamoviemaniac': 2108, 'situation': 3601, 'risk': 3186, 'powerhouse': 2638, 'earworms': 1139, 'summon': 3795, 'bdaycake': 453, 'azcakeartist': 338, 'qccakeartist': 2818, 'eric': 1226, 'collector': 803, 'reo': 3070, 'discovery': 1051, 'grief': 1567, 'shamelessly': 3489, 'plug': 2553, 'nah': 2274, 'unlike': 4167, 'movietwit': 2245, 'flick': 1379, 'charliesangels': 720, 'unkoowwwnnn': 4163, 'nett': 2301, 'banter': 410, 'saviorism': 3329, 'rausch': 2900, 'blown': 553, 'schedule': 3355, 'firelizard': 1367, 'recreate': 2965, 'overrate': 2417, 'capture': 675, 'unknowwwwwwwwnnnnnnnn': 4162, 'pg': 2487, 'reckoning': 2951, 'scrap': 3371, 'saksfifthavenue': 3282, 'window': 4410, 'ceremony': 703, 'robbies': 3198, 'cooky': 871, 'ships': 3525, 'naver': 2287, 'baek': 375, 'conclude': 839, 'shine': 3521, 'rime': 3173, 'await': 312, 'anticipate': 183, 'rocketcity': 3205, 'familymovienight': 1303, 'anime': 168, 'ig': 1739, 'reversible': 3141, 'conquer': 849, 'frozenbroadway': 1442, 'bartending': 421, 'shoveler': 3559, 'shovel': 3558, 'majo': 2093, 'influence': 1781, 'ziploc': 4496, 'mcu': 2146, 'decor': 987, 'screenplay': 3379, 'screenwriter': 3383, 'refuse': 2994, 'hea': 1634, 'bcz': 450, 'dunno': 1125, 'macysparade': 2080, 'dolby': 1084, 'placement': 2514, 'grandma': 1560, 'info': 1782, 'push': 2811, 'geez': 1481, 'rental': 3069, 'toward': 3968, 'ooooooh': 2392, 'pronto': 2753, 'vers': 4270, 'gu': 1579, 'collab': 797, 'reheat': 3014, 'saint': 3280, 'regist': 3004, 'wisdom': 4417, 'driving': 1116, 'eng': 1201, 'babygirl': 351, 'runpee': 3254, 'rename': 3060, 'takerlama': 3832, 'cosplaygirl': 885, 'cosplayers': 884, 'harmony': 1619, 'par': 2440, 'scentsyanddisney': 3351, 'politics': 2583, 'bala': 387, 'shivsena': 3531, 'porgs': 2605, 'porg': 2601, 'porgnation': 2604, 'porglife': 2603, 'porgstagram': 2607, 'tony': 3959, 'porgie': 2602, 'porgsofinstagram': 2606, 'representatio': 3088, 'sterlingkbrown': 3742, 'impress': 1762, 'hokkaido': 1678, 'quicksketch': 2848, 'tim': 3937, 'climax': 780, 'surprising': 3814, 'related': 3025, 'discussion': 1054, 'gurl': 1585, 'proved': 2768, 'thegoodplace': 3891, 'periscope': 2476, 'rehearsal': 3012, 'vendo': 4262, 'aight': 102, 'wagon': 4320, 'avaliable': 291, 'standard': 3725, 'unknoooooownnnn': 4123, 'beautif': 469, 'string': 3765, 'granddaughter': 1557, 'remake': 3045, 'carry': 682, 'weapon': 4357, 'awomi': 328, 'ae': 64, 'imo': 1756, 'commentary': 821, 'hurry': 1719, 'quadruped': 2820, 'atthemovies': 263, 'ethereal': 1232, 'pointe': 2572, 'shortly': 3549, 'poorly': 2594, 'shock': 3533, 'maggie': 2086, 'recipe': 2949, 'tnvpodcast': 3948, 'sexually': 3476, 'atii': 246, 'unexpectedly': 4079, 'unused': 4188, 'baden': 372, 'unsurprised': 4186, 'plz': 2556, 'klausnetflix': 1912, 'mainstream': 2091, 'airt': 109, 'skip': 3610, 'puy': 2814, 'board': 560, 'unknooow': 4133, 'rdcj': 2912, 'belief': 506, 'planner': 2518, 'hearing': 1642, 'posit': 2614, 'protest': 2765, 'baseline': 424, 'bass': 427, 'onepiecestampede': 2385, 'cine': 754, 'harkins': 1618, 'cerritos': 704, 'babyyodameme': 358, 'rollin': 3211, 'fjord': 1373, 'nominate': 2319, 'justdance': 1878, 'senatranslations': 3433, 'dreamworks': 1110, 'unknooooooooown': 4111, 'menu': 2168, 'traffic': 3978, 'charade': 718, 'powe': 2635, 'creator': 915, 'atmosphere': 250, 'riyah': 3188, 'length': 1987, 'latter': 1956, 'cd': 695, 'rep': 3071, 'ate': 242, 'mayward': 2144, 'gallery': 1468, 'claus': 772, 'runtime': 3255, 'awae': 310, 'scared': 3341, 'renewannewithane': 3063, 'saveannewithanne': 3327, 'unashamedly': 4063, 'rough': 3228, 'jin': 1852, 'seokjin': 3444, 'manifest': 2110, 'thisisus': 3909, 'postpone': 2622, 'trick': 4004, 'remain': 3043, 'unknowwwnnnn': 4152, 'unkown': 4164, 'becomes': 483, 'gossip': 1548, 'psh': 2773, 'toddler': 3952, 'slow': 3625, 'trowbridge': 4019, 'besides': 517, 'usually': 4222, 'manage': 2107, 'campus': 661, 'fame': 1299, 'podtimeforgot': 2567, 'unproblematic': 4181, 'discounttuesdays': 1049, 'millennials': 2191, 'thaw': 3883, 'excels': 1257, 'seq': 3449, 'ups': 4206, 'annafrozen': 171, 'disneycosplay': 1061, 'married': 2120, 'foyer': 1411, 'rela': 3022, 'settle': 3468, 'fa': 1284, 'nutshell': 2343, 'raisingneelylou': 2871, 'comfort': 818, 'beacuse': 456, 'questionable': 2843, 'shallo': 3485, 'sculpture': 3390, 'pri': 2692, 'ramble': 2875, 'vertigo': 4275, 'serie': 3457, 'scope': 3368, 'aspect': 238, 'reche': 2948, 'realmadridpsg': 2930, 'rmapsg': 3192, 'promenade': 2744, 'rapunzel': 2890, 'siste': 3595, 'rage': 2865, 'purpose': 2807, 'traditional': 3977, 'heavy': 1650, 'pascal': 2453, 'sceptical': 3354, 'entertain': 1211, 'chase': 723, 'hill': 1670, 'adventuresome': 56, 'winteriscoming': 4414, 'bacon': 366, 'scientology': 3364, 'treasure': 3994, 'ted': 3857, 'screeni': 3377, 'spider': 3705, 'rephrase': 3077, 'scarily': 3343, 'wield': 4402, 'saber': 3269, 'tall': 3838, 'evie': 1249, 'meal': 2147, 'extreme': 1281, 'princessandthefrog': 2701, 'ann': 169, 'wilmette': 4407, 'restaura': 3117, 'spo': 3709, 'trauma': 3989, 'undo': 4074, 'athenga': 243, 'protect': 2764, 'arguably': 217, 'beaut': 467, 'dat': 966, 'qu': 2819, 'redemptive': 2975, 'batim': 432, 'beastbendy': 462, 'savior': 3328, 'doom': 1096, 'randomsayingsinmovies': 2884, 'rams': 2877, 'per': 2469, 'reporter': 3082, 'clara': 767, 'alarm': 120, 'ik': 1743, 'poignant': 2569, 'irl': 1819, 'usher': 4219, 'prett': 2685, 'guide': 1582, 'rude': 3243, 'babies': 345, 'involved': 1815, 'york': 4486, 'thanksgivingbreak': 3879, 'center': 700, 'complicate': 834, 'uplift': 4202, 'showbiz': 3561, 'feminist': 1338, 'propaganda': 2755, 'unveiling': 4191, 'homeopathy': 1687, 'port': 2608, 'cultural': 930, 'fruit': 1449, 'invite': 1813, 'rematch': 3046, 'anticipation': 185, 'shade': 3480, 'awsome': 329, 'beli': 505, 'rey': 3153, 'captainamerica': 672, 'verymerewards': 4276, 'thecritic': 3887, 'purple': 2806, 'sas': 3314, 'proper': 2757, 'purchas': 2799, 'mrrogers': 2248, 'knivesoutfilm': 1917, 'bat': 428, 'reald': 2923, 'roosevelt': 3221, 'shoppingonline': 3545, 'shampoo': 3490, 'battery': 435, 'rising': 3185, 'puddly': 2781, 'procrastin': 2722, 'violet': 4302, 'portrait': 2610, 'sant': 3306, 'raya': 2906, 'revolves': 3147, 'urgh': 4211, 'gap': 1473, 'predict': 2653, 'raven': 2901, 'ravenwinter': 2903, 'aew': 67, 'pabbie': 2422, 'tuesdaythoughts': 4035, 'consider': 850, 'rejection': 3020, 'universal': 4091, 'loveit': 2061, 'rachaelallison': 2859, 'ce': 696, 'resistance': 3106, 'corporate': 880, 'beforehand': 492, 'bebouuuu': 475, 'enigma': 1205, 'prose': 2763, 'sensoryfriendly': 3442, 'velvet': 4260, 'looked': 2043, 'preorders': 2669, 'resent': 3099, 'beamin': 458, 'para': 2441, 'premis': 2664, 'remains': 3044, 'bahlul': 381, 'printable': 2708, 'roa': 3195, 'sensitive': 3439, 'soulful': 3680, 'becau': 478, 'villian': 4298, 'avengersinfinitywar': 296, 'screentime': 3382, 'poco': 2561, 'que': 2828, 'recharge': 2947, 'onrepeat': 2388, 'rundisney': 3251, 'barnesandnoble': 419, 'scentsywarmer': 3353, 'progressive': 2738, 'challenge': 711, 'unknoooooooowwwwwwnnnnnn': 4117, 'homescreen': 1688, 'quietly': 2850, 'autumnal': 286, 'bean': 459, 'princesszoey': 2705, 'quesh': 2839, 'punch': 2792, 'responsibility': 3114, 'priderock': 2696, 'bullet': 636, 'unknowwwwwwnnnnn': 4160, 'baccho': 360, 'saath': 3267, 'magnificent': 2089, 'glo': 1512, 'sarcasm': 3311, 'museum': 2258, 'bust': 646, 'ps': 2770, 'bagong': 379, 'rebond': 2936, 'sham': 3486, 'shark': 3495, 'promo': 2746, 'digital': 1032, 'beignetd': 502, 'workout': 4439, 'pursue': 2809, 'animat': 162, 'nationalcakeday': 2284, 'airbus': 107, 'ralph': 2874, 'pleeeaaase': 2545, 'versus': 4274, 'resentment': 3100, 'seaaaaaa': 3393, 'programme': 2736, 'becom': 481, 'sterling': 3741, 'klicknet': 1913, 'movietour': 2244, 'couldnt': 895, 'vanilla': 4244, 'upcoming': 4197, 'aths': 245, 'pleasant': 2538, 'thumb': 3928, 'audiobook': 270, 'shadow': 3481, 'unknooooownn': 4128, 'relive': 3039, 'figurine': 1350, 'bailey': 383, 'somewhere': 3663, 'truer': 4022, 'recorder': 2963, 'pow': 2634, 'hauntingly': 1629, 'cafe': 654, 'upgrade': 4200, 'fe': 1325, 'buff': 634, 'preferred': 2657, 'scrape': 3372, 'fifthavenue': 1346, 'require': 3093, 'promos': 2747, 'train': 3980, 'sensitivity': 3440, 'united': 4088, 'nose': 2332, 'reparation': 3072, 'robotics': 3203, 'tryna': 4030, 'ditch': 1075, 'divine': 1077, 'topic': 3961, 'shhhhhh': 3515, 'technical': 3855, 'prope': 2756, 'shoulder': 3553, 'akak': 113, 'venmo': 4264, 'provide': 2769, 'seee': 3412, 'pollergen': 2585, 'ryan': 3263, 'previous': 2689, 'ribbon': 3162, 'wide': 4401, 'unknowwwn': 4151, 'trapnerds': 3986, 'refillable': 2986, 'ahaaa': 93, 'romney': 3218, 'vacuum': 4233, 'unknooowwwwnnnnn': 4137, 'accidentally': 17, 'runnin': 3253, 'quiz': 2855, 'zubuchon': 4499, 'bathroom': 431, 'hears': 1643, 'pressie': 2681, 'aesthetically': 66, 'rukayat': 3246, 'twin': 4046, 'respectful': 3110, 'yikes': 4482, 'ayreon': 336, 'bottom': 581, 'reced': 2942, 'riff': 3170, 'rapunzelstangledadventure': 2891, 'thriller': 3921, 'sebab': 3401, 'awesomeness': 324, 'emang': 1174, 'banyak': 411, 'resemble': 3098, 'responsible': 3115, 'vegetable': 4258, 'receipt': 2943, 'promoteiceland': 2749, 'bum': 637, 'quedamos': 2829, 'unos': 4175, 'afte': 81, 'seafood': 3395, 'rolling': 3212, 'shillong': 3519, 'ka': 1881, 'salute': 3288, 'becus': 485, 'marjaavaan': 2115, 'coppa': 874, 'render': 3061, 'burger': 641, 'research': 3097, 'balloon': 396, 'scatter': 3345, 'realness': 2931, 'audition': 271, 'charlies': 719, 'playdoh': 2527, 'playsets': 2536, 'quiero': 2849, 'tumbler': 4036, 'banana': 400, 'tengo': 3864, 'hahahah': 1594, 'emoji': 1183, 'tricity': 4003, 'reject': 3019, 'entry': 1215, 'severe': 3472, 'prob': 2715, 'galaw': 1466, 'riseofthegurdians': 3184, 'valuable': 4242, 'climate': 779, 'poin': 2570, 'avtar': 308, 'podemos': 2565, 'pokemonshield': 2576, 'pocket': 2560, 'billboard': 529, 'pude': 2782, 'una': 4061, 'queerbait': 2836, 'cosslayed': 888, 'thr': 3917, 'inspiring': 1794, 'saturd': 3321, 'yell': 4475, 'rec': 2938, 'recom': 2956, 'affirmation': 73, 'commvault': 825, 'arkay': 219, 'lab': 1938, 'prescribe': 2676, 'backstory': 363, 'refreshing': 2992, 'pleasing': 2543, 'akmu': 114, 'traumatize': 3991, 'pressjunket': 2682, 'bathro': 430, 'sepanx': 3445, 'transition': 3984, 'rotation': 3226, 'recommendation': 2958, 'bangor': 405, 'shoppin': 3543, 'reddit': 2971, 'restore': 3119, 'ill': 1744, 'playhero': 2529, 'pubg': 2778, 'recapture': 2940, 'westlife': 4379, 'pooja': 2591, 'behindthescenes': 501, 'ayeonie': 335, 'ravenmyhaven': 2902, 'babysitter': 354, 'unveils': 4192, 'sensation': 3437, 'educator': 1152, 'pee': 2464, 'noelle': 2317, 'ballot': 397, 'declare': 986, 'cheer': 727, 'shitty': 3530, 'babysitting': 355, 'babyline': 352, 'robe': 3199, 'slipper': 3624, 'hadley': 1590, 'unite': 4087, 'trilha': 4007, 'problematika': 2718, 'unknowwwwnnnnn': 4154, 'nostalgia': 2333, 'premature': 2661, 'scoop': 3367, 'valor': 4241, 'bard': 415, 'jan': 1842, 'unknooooooooooooooooown': 4103, 'backstreet': 364, 'powerrrr': 2640, 'bath': 429, 'unforumbhr': 4082, 'riplewis': 3181, 'lami': 1943, 'omgggg': 2382, 'brawl': 598, 'privatescreening': 2711, 'baaaad': 341, 'beau': 466, 'beasty': 463, 'viewable': 4293, 'pvr': 2816, 'retweets': 3132, 'fuckin': 1453, 'scriptwriter': 3387, 'snowgies': 3645, 'unknowwwwwnnnnn': 4158, 'samanthaaa': 3291, 'showstopper': 3567, 'sarcastic': 3312, 'traveltuesday': 3993, 'professor': 2731, 'rougher': 3229, 'grabe': 1553, 'unknoooowwwwnnnn': 4131, 'rayt': 2908, 'rundown': 3252, 'awee': 321, 'avg': 300, 'national': 2283, 'usab': 4214, 'reeeeeaaaaaaally': 2981, 'ponyta': 2589, 'shipper': 3523, 'sb': 3335, 'kd': 1888, 'karuppudurai': 1885, 'vivek': 4309, 'reconciliation': 2961, 'quantity': 2824, 'afro': 80, 'position': 2615, 'rhythmical': 3159, 'unknownnnn': 4144, 'secure': 3409, 'rarely': 2893, 'pillow': 2505, 'atinox': 247, 'ay': 332, 'prez': 2691, 'xi': 4462, 'bcoz': 448, 'redu': 2979, 'snowmann': 3647, 'adithyavarma': 41, 'migamigaavasaram': 2188, 'sangathamizhan': 3304, 'kissbreakfast': 1908, 'maskell': 2129, 'babyy': 356, 'insanely': 1788, 'prioritize': 2710, 'ayala': 333, 'recommended': 2959, 'triumphant': 4015, 'remixed': 3056, 'quarter': 2826, 'selense': 3424, 'reel': 2982, 'profitable': 2733, 'awaits': 314, 'reminiscent': 3054, 'beaitiful': 457, 'shocker': 3534, 'radiate': 2863, 'vast': 4252, 'shoul': 3552, 'worried': 4443, 'valiant': 4237, 'pungent': 2793, 'pwelis': 2817, 'africa': 79, 'showdown': 3563, 'ruler': 3249, 'shawty': 3499, 'sama': 3289, 'reunite': 3134, 'unknooowwwnnnn': 4135, 'awesomeeee': 323, 'offering': 2361, 'refund': 2993, 'undubbed': 4076, 'unknoooooooowwwwn': 4116, 'devi': 1022, 'exceeds': 1255, 'updated': 4199, 'sheendass': 3505, 'sheenisqueen': 3506, 'qui': 2845, 'rufus': 3244, 'pokemonswordandshield': 2577, 'controversy': 866, 'arfan': 216, 'unk': 4094, 'refjorged': 2987, 'watchable': 4345, 'vfx': 4278, 'shatters': 3498, 'showme': 3566, 'sainsburys': 3279, 'unknooooooooooowwwnn': 4108, 'unknoooooooowwnnnn': 4115, 'juh': 1871, 'sayang': 3332, 'productive': 2728, 'revenue': 3139, 'talaga': 3833, 'validation': 4239, 'rot': 3225, 'atleast': 249, 'uy': 4229, 'rem': 3042, 'ridiculous': 3169, 'posty': 2623, 'trinity': 4010, 'regalunlimited': 2997, 'transformative': 3983, 'schoolwork': 3359, 'attendance': 260, 'availabl': 289, 'shoegame': 3536, 'ballads': 395, 'unknoooooowwwnnnn': 4125, 'rightfully': 3172, 'prefers': 2658, 'rehearse': 3013, 'unknoowwwn': 4138, 'unknoowwwnn': 4139, 'predetermined': 2651, 'property': 2759, 'pringles': 2706, 'rely': 3041, 'pusaka': 2810, 'regardl': 3000, 'reserve': 3102, 'plsss': 2552, 'tekken': 3859, 'verdict': 4267, 'shore': 3546, 'becaaaause': 477, 'prompt': 2752, 'practice': 2643}\n",
      "\n",
      "\n",
      "\n",
      "----------------------- Train X Tfidf ------------------------------\n",
      "\n",
      "  (0, 2568)\t0.6610054692001044\n",
      "  (0, 2140)\t0.6610054692001044\n",
      "  (0, 2096)\t0.34201448306803856\n",
      "  (0, 1439)\t0.09575819937113503\n",
      "  (1, 4266)\t0.63233150588941\n",
      "  (1, 2441)\t0.7157029884405091\n",
      "  (1, 1439)\t0.296523353206717\n",
      "  (2, 4344)\t0.27528493139119714\n",
      "  (2, 3886)\t0.5157566134730271\n",
      "  (2, 2384)\t0.695937496803306\n",
      "  (2, 1439)\t0.10262393340981954\n",
      "  (2, 929)\t0.40416908719300076\n",
      "  (3, 3830)\t0.32989728829344783\n",
      "  (3, 3411)\t0.2288427276846472\n",
      "  (3, 2312)\t0.4791548906908467\n",
      "  (3, 2235)\t0.2455030408734305\n",
      "  (3, 2058)\t0.25385216326563265\n",
      "  (3, 1747)\t0.3981997884342512\n",
      "  (3, 1614)\t0.4161644123666726\n",
      "  (3, 1439)\t0.08572945110661657\n",
      "  (3, 1322)\t0.3813020896876361\n",
      "  (4, 4130)\t0.47803062249657313\n",
      "  (4, 4113)\t0.4691295416594559\n",
      "  (4, 4097)\t0.5414674934921687\n",
      "  (4, 3330)\t0.25612357725992285\n",
      "  :\t:\n",
      "  (6082, 2539)\t0.6124981221035809\n",
      "  (6082, 2235)\t0.37686897795353314\n",
      "  (6082, 1531)\t0.43490895373981736\n",
      "  (6082, 1518)\t0.3895238948380481\n",
      "  (6082, 1439)\t0.13160232355624799\n",
      "  (6083, 4273)\t0.3384044189347631\n",
      "  (6083, 3830)\t0.25021186583567945\n",
      "  (6083, 2588)\t0.4708194346902934\n",
      "  (6083, 2384)\t0.22047065048346012\n",
      "  (6083, 2025)\t0.2765343024694433\n",
      "  (6083, 1702)\t0.36729110836794315\n",
      "  (6083, 1439)\t0.06502183158103036\n",
      "  (6083, 1279)\t0.4708194346902934\n",
      "  (6083, 1221)\t0.3395960339007403\n",
      "  (6084, 3378)\t0.36928814540475796\n",
      "  (6084, 2313)\t0.2917628857899813\n",
      "  (6084, 2153)\t0.3405953223845479\n",
      "  (6084, 1951)\t0.28627553647886284\n",
      "  (6084, 1491)\t0.20669821814248399\n",
      "  (6084, 1439)\t0.06425816959619224\n",
      "  (6084, 1206)\t0.30280735540704873\n",
      "  (6084, 1188)\t0.4652898011002602\n",
      "  (6084, 1167)\t0.17169550672124279\n",
      "  (6084, 712)\t0.38776454148548356\n",
      "  (6084, 170)\t0.2136843041057278\n"
     ]
    }
   ],
   "source": [
    "print(\"----------------------- Train Y Tfidf ------------------------------\\n\")\n",
    "print(Tfidf_vect.vocabulary_)\n",
    "\n",
    "print(\"\\n\\n\\n----------------------- Train X Tfidf ------------------------------\\n\")\n",
    "print(Train_X_Tfidf)"
   ]
  },
  {
   "cell_type": "code",
   "execution_count": 10,
   "metadata": {
    "colab": {
     "base_uri": "https://localhost:8080/",
     "height": 35
    },
    "colab_type": "code",
    "id": "OH-TLAFT_kH9",
    "outputId": "8771b374-8010-409c-f7ad-d3c0dd95dbeb"
   },
   "outputs": [
    {
     "name": "stdout",
     "output_type": "stream",
     "text": [
      "Random Forest Classifier Accuracy Score ->  83.28220858895705\n"
     ]
    }
   ],
   "source": [
    "from sklearn.ensemble import RandomForestClassifier\n",
    "text_classifier = RandomForestClassifier(n_estimators=100, random_state=0)  \n",
    "text_classifier.fit(Train_X_Tfidf, Train_Y)\n",
    "predictions = text_classifier.predict(Test_X_Tfidf) \n",
    "random_forest = accuracy_score(Test_Y, predictions)*100\n",
    "\n",
    "print(\"Random Forest Classifier Accuracy Score -> \",random_forest)"
   ]
  },
  {
   "cell_type": "code",
   "execution_count": 11,
   "metadata": {
    "colab": {
     "base_uri": "https://localhost:8080/",
     "height": 35
    },
    "colab_type": "code",
    "id": "0j0-L-RQ_lcd",
    "outputId": "9bc92d4d-3287-45de-9c8e-0b71abf7de19"
   },
   "outputs": [
    {
     "name": "stdout",
     "output_type": "stream",
     "text": [
      "Naive Bayes Accuracy Score ->  68.25153374233128\n"
     ]
    }
   ],
   "source": [
    "# fit the training dataset on the NB classifier\n",
    "Naive = naive_bayes.MultinomialNB()\n",
    "Naive.fit(Train_X_Tfidf,Train_Y)\n",
    "# predict the labels on validation dataset\n",
    "predictions_NB = Naive.predict(Test_X_Tfidf)\n",
    "# Use accuracy_score function to get the accuracy\n",
    "naive_bayes = accuracy_score(predictions_NB, Test_Y)*100\n",
    "\n",
    "print(\"Naive Bayes Accuracy Score -> \",naive_bayes)"
   ]
  },
  {
   "cell_type": "code",
   "execution_count": 12,
   "metadata": {
    "colab": {
     "base_uri": "https://localhost:8080/",
     "height": 35
    },
    "colab_type": "code",
    "id": "1v1tAEv__rjK",
    "outputId": "f96816c4-ae0d-4849-a89d-c76ad2545894"
   },
   "outputs": [
    {
     "name": "stdout",
     "output_type": "stream",
     "text": [
      "Decision Tree Accuracy Score ->  75.07668711656443\n"
     ]
    }
   ],
   "source": [
    "from sklearn.tree import DecisionTreeClassifier\n",
    "Dtree = DecisionTreeClassifier()\n",
    "Dtree.fit(Train_X_Tfidf,Train_Y)\n",
    "predictions_DT = Dtree.predict(Test_X_Tfidf)\n",
    "decision_tree = accuracy_score(predictions_DT, Test_Y)*100\n",
    "\n",
    "print(\"Decision Tree Accuracy Score -> \",decision_tree)"
   ]
  },
  {
   "cell_type": "code",
   "execution_count": 13,
   "metadata": {
    "colab": {
     "base_uri": "https://localhost:8080/",
     "height": 35
    },
    "colab_type": "code",
    "id": "XrgYm1FwH9hk",
    "outputId": "0bfef61c-daab-4365-90e8-f5ff4d0d1523"
   },
   "outputs": [
    {
     "name": "stdout",
     "output_type": "stream",
     "text": [
      "SVM Accuracy Score ->  85.04601226993866\n"
     ]
    }
   ],
   "source": [
    "from sklearn.svm import SVC\n",
    "svclassifier = SVC(kernel='linear')\n",
    "svclassifier.fit(Train_X_Tfidf,Train_Y)\n",
    "predictions_SVM = svclassifier.predict(Test_X_Tfidf)\n",
    "linear_svm = accuracy_score(predictions_SVM, Test_Y)*100\n",
    "\n",
    "print(\"SVM Accuracy Score -> \",linear_svm)"
   ]
  },
  {
   "cell_type": "code",
   "execution_count": 14,
   "metadata": {
    "colab": {
     "base_uri": "https://localhost:8080/",
     "height": 126
    },
    "colab_type": "code",
    "id": "_VYRnoTEb4ap",
    "outputId": "ea4e5106-e741-4c04-94bb-1a20839b84e8"
   },
   "outputs": [
    {
     "name": "stdout",
     "output_type": "stream",
     "text": [
      "Linear Regression Accuracy Score ->  81.32668711656443\n"
     ]
    },
    {
     "name": "stderr",
     "output_type": "stream",
     "text": [
      "/usr/local/lib/python3.6/dist-packages/sklearn/linear_model/logistic.py:432: FutureWarning: Default solver will be changed to 'lbfgs' in 0.22. Specify a solver to silence this warning.\n",
      "  FutureWarning)\n",
      "/usr/local/lib/python3.6/dist-packages/sklearn/linear_model/logistic.py:469: FutureWarning: Default multi_class will be changed to 'auto' in 0.22. Specify the multi_class option to silence this warning.\n",
      "  \"this warning.\", FutureWarning)\n"
     ]
    }
   ],
   "source": [
    "regression = LogisticRegression()\n",
    "regression.fit(Train_X_Tfidf,Train_Y)\n",
    "predictions_Regression= regression.predict(Test_X_Tfidf)\n",
    "linear_regression = accuracy_score(predictions_Regression, Test_Y)*100\n",
    "\n",
    "print(\"Linear Regression Accuracy Score -> \",linear_regression)"
   ]
  },
  {
   "cell_type": "code",
   "execution_count": 15,
   "metadata": {
    "colab": {
     "base_uri": "https://localhost:8080/",
     "height": 194
    },
    "colab_type": "code",
    "id": "PTtnq2M2KSbk",
    "outputId": "ceb33cd1-059c-4f87-efbf-9e8e389aee7e"
   },
   "outputs": [
    {
     "data": {
      "text/html": [
       "<div>\n",
       "<style scoped>\n",
       "    .dataframe tbody tr th:only-of-type {\n",
       "        vertical-align: middle;\n",
       "    }\n",
       "\n",
       "    .dataframe tbody tr th {\n",
       "        vertical-align: top;\n",
       "    }\n",
       "\n",
       "    .dataframe thead th {\n",
       "        text-align: right;\n",
       "    }\n",
       "</style>\n",
       "<table border=\"1\" class=\"dataframe\">\n",
       "  <thead>\n",
       "    <tr style=\"text-align: right;\">\n",
       "      <th></th>\n",
       "      <th>Model</th>\n",
       "      <th>Accuracy</th>\n",
       "    </tr>\n",
       "  </thead>\n",
       "  <tbody>\n",
       "    <tr>\n",
       "      <th>0</th>\n",
       "      <td>Naive Bayes</td>\n",
       "      <td>68.251534</td>\n",
       "    </tr>\n",
       "    <tr>\n",
       "      <th>1</th>\n",
       "      <td>Random Forest Classifier</td>\n",
       "      <td>83.282209</td>\n",
       "    </tr>\n",
       "    <tr>\n",
       "      <th>2</th>\n",
       "      <td>Decision Tree Classifier</td>\n",
       "      <td>75.076687</td>\n",
       "    </tr>\n",
       "    <tr>\n",
       "      <th>3</th>\n",
       "      <td>Linear SVM</td>\n",
       "      <td>85.046012</td>\n",
       "    </tr>\n",
       "    <tr>\n",
       "      <th>4</th>\n",
       "      <td>Linear Regression</td>\n",
       "      <td>81.326687</td>\n",
       "    </tr>\n",
       "  </tbody>\n",
       "</table>\n",
       "</div>"
      ],
      "text/plain": [
       "                      Model   Accuracy\n",
       "0               Naive Bayes  68.251534\n",
       "1  Random Forest Classifier  83.282209\n",
       "2  Decision Tree Classifier  75.076687\n",
       "3                Linear SVM  85.046012\n",
       "4         Linear Regression  81.326687"
      ]
     },
     "execution_count": 15,
     "metadata": {
      "tags": []
     },
     "output_type": "execute_result"
    }
   ],
   "source": [
    "Data = {'Model':['Naive Bayes','Random Forest Classifier', 'Decision Tree Classifier', 'Linear SVM', 'Linear Regression'],\n",
    "        'Accuracy':[naive_bayes, random_forest, decision_tree, linear_svm, linear_regression]}\n",
    "\n",
    "df_machine = pd.DataFrame(Data, columns = ['Model', 'Accuracy'])\n",
    "df_machine"
   ]
  }
 ],
 "metadata": {
  "colab": {
   "collapsed_sections": [],
   "name": "Sentiment Analysis - Frozen2.ipynb",
   "provenance": []
  },
  "kernelspec": {
   "display_name": "Python 3",
   "language": "python",
   "name": "python3"
  },
  "language_info": {
   "codemirror_mode": {
    "name": "ipython",
    "version": 3
   },
   "file_extension": ".py",
   "mimetype": "text/x-python",
   "name": "python",
   "nbconvert_exporter": "python",
   "pygments_lexer": "ipython3",
   "version": "3.7.3"
  }
 },
 "nbformat": 4,
 "nbformat_minor": 1
}
